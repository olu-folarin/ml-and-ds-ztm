{
 "cells": [
  {
   "cell_type": "code",
   "execution_count": 1,
   "id": "505e63e0",
   "metadata": {},
   "outputs": [],
   "source": [
    "import numpy as np"
   ]
  },
  {
   "cell_type": "code",
   "execution_count": null,
   "id": "365c583b",
   "metadata": {},
   "outputs": [],
   "source": []
  },
  {
   "cell_type": "markdown",
   "id": "b084514a",
   "metadata": {},
   "source": [
    "## Data Types and Attributes"
   ]
  },
  {
   "cell_type": "code",
   "execution_count": 2,
   "id": "c1d9ea5a",
   "metadata": {},
   "outputs": [
    {
     "data": {
      "text/plain": [
       "array([2, 5, 8])"
      ]
     },
     "execution_count": 2,
     "metadata": {},
     "output_type": "execute_result"
    }
   ],
   "source": [
    "first_nparray = np.array([2,5,8])\n",
    "first_nparray"
   ]
  },
  {
   "cell_type": "code",
   "execution_count": 3,
   "id": "ab84a9c2",
   "metadata": {},
   "outputs": [
    {
     "data": {
      "text/plain": [
       "array([7, 0, 1])"
      ]
     },
     "execution_count": 3,
     "metadata": {},
     "output_type": "execute_result"
    }
   ],
   "source": [
    "second_nparr = np.array([7,0,1])\n",
    "second_nparr"
   ]
  },
  {
   "cell_type": "markdown",
   "id": "a8f00c7d",
   "metadata": {},
   "source": [
    "## check the datatype with type(var_name)"
   ]
  },
  {
   "cell_type": "code",
   "execution_count": 4,
   "id": "9f51a19a",
   "metadata": {},
   "outputs": [
    {
     "data": {
      "text/plain": [
       "numpy.ndarray"
      ]
     },
     "execution_count": 4,
     "metadata": {},
     "output_type": "execute_result"
    }
   ],
   "source": [
    "type(second_nparr)"
   ]
  },
  {
   "cell_type": "code",
   "execution_count": 5,
   "id": "7ee89205",
   "metadata": {},
   "outputs": [
    {
     "data": {
      "text/plain": [
       "numpy.ndarray"
      ]
     },
     "execution_count": 5,
     "metadata": {},
     "output_type": "execute_result"
    }
   ],
   "source": [
    "type(first_nparray)"
   ]
  },
  {
   "cell_type": "code",
   "execution_count": null,
   "id": "d760c189",
   "metadata": {},
   "outputs": [],
   "source": []
  },
  {
   "cell_type": "markdown",
   "id": "449d1d72",
   "metadata": {},
   "source": [
    "##creating single a vector and matrix(es)"
   ]
  },
  {
   "cell_type": "code",
   "execution_count": 6,
   "id": "766eb850",
   "metadata": {},
   "outputs": [
    {
     "data": {
      "text/plain": [
       "array([1, 2, 3])"
      ]
     },
     "execution_count": 6,
     "metadata": {},
     "output_type": "execute_result"
    }
   ],
   "source": [
    "vec = np.array([1,2,3])\n",
    "vec"
   ]
  },
  {
   "cell_type": "code",
   "execution_count": 7,
   "id": "d0235072",
   "metadata": {},
   "outputs": [
    {
     "data": {
      "text/plain": [
       "array([[1. , 2. , 2.7],\n",
       "       [3. , 4. , 5. ],\n",
       "       [5.5, 6. , 7. ]])"
      ]
     },
     "execution_count": 7,
     "metadata": {},
     "output_type": "execute_result"
    }
   ],
   "source": [
    "##this is a dual-dimensional array\n",
    "matx1 = np.array([[1,2,2.7],[3,4,5],[5.5,6,7]])\n",
    "matx1"
   ]
  },
  {
   "cell_type": "code",
   "execution_count": 8,
   "id": "9ed97d66",
   "metadata": {},
   "outputs": [
    {
     "data": {
      "text/plain": [
       "array([[[ 1,  2],\n",
       "        [ 3,  4]],\n",
       "\n",
       "       [[ 5,  6],\n",
       "        [ 7,  8]],\n",
       "\n",
       "       [[ 9, 10],\n",
       "        [11, 12]]])"
      ]
     },
     "execution_count": 8,
     "metadata": {},
     "output_type": "execute_result"
    }
   ],
   "source": [
    "##a multi-dimensional array\n",
    "matx2 = np.array([[[1,2],[3,4]],[[5,6],[7,8]],[[9,10],[11,12]]])\n",
    "matx2"
   ]
  },
  {
   "cell_type": "markdown",
   "id": "ddf5141d",
   "metadata": {},
   "source": [
    "## NOTE: if there's one or more float(s) in a vector or matrix, all the integers will have dots after them."
   ]
  },
  {
   "cell_type": "code",
   "execution_count": 9,
   "id": "ed83854b",
   "metadata": {},
   "outputs": [
    {
     "data": {
      "text/plain": [
       "(3,)"
      ]
     },
     "execution_count": 9,
     "metadata": {},
     "output_type": "execute_result"
    }
   ],
   "source": [
    " first_nparray.shape"
   ]
  },
  {
   "cell_type": "code",
   "execution_count": 10,
   "id": "af048139",
   "metadata": {},
   "outputs": [
    {
     "data": {
      "text/plain": [
       "(3,)"
      ]
     },
     "execution_count": 10,
     "metadata": {},
     "output_type": "execute_result"
    }
   ],
   "source": [
    "second_nparr.shape"
   ]
  },
  {
   "cell_type": "code",
   "execution_count": 11,
   "id": "99ce8a3f",
   "metadata": {},
   "outputs": [
    {
     "data": {
      "text/plain": [
       "(3, 3)"
      ]
     },
     "execution_count": 11,
     "metadata": {},
     "output_type": "execute_result"
    }
   ],
   "source": [
    "matx1.shape"
   ]
  },
  {
   "cell_type": "code",
   "execution_count": 12,
   "id": "1a0e5025",
   "metadata": {},
   "outputs": [
    {
     "data": {
      "text/plain": [
       "(3, 2, 2)"
      ]
     },
     "execution_count": 12,
     "metadata": {},
     "output_type": "execute_result"
    }
   ],
   "source": [
    "matx2.shape"
   ]
  },
  {
   "cell_type": "code",
   "execution_count": 13,
   "id": "ca550125",
   "metadata": {},
   "outputs": [
    {
     "data": {
      "text/plain": [
       "(1, 1, 2, 3)"
      ]
     },
     "execution_count": 13,
     "metadata": {},
     "output_type": "execute_result"
    }
   ],
   "source": [
    "first_nparray.ndim, second_nparr.ndim, matx1.ndim, matx2.ndim"
   ]
  },
  {
   "cell_type": "code",
   "execution_count": 14,
   "id": "545b8fe5",
   "metadata": {},
   "outputs": [
    {
     "data": {
      "text/plain": [
       "3"
      ]
     },
     "execution_count": 14,
     "metadata": {},
     "output_type": "execute_result"
    }
   ],
   "source": [
    "matx3 = np.array([[[1,2,3],[4,5,6]],[[7,8,9],[10,11,12]],[[13,14,15],[16,17,18]], [[19,20,21], [22,23,24]]])\n",
    "matx3.ndim"
   ]
  },
  {
   "cell_type": "code",
   "execution_count": 15,
   "id": "229f41c4",
   "metadata": {},
   "outputs": [
    {
     "data": {
      "text/plain": [
       "(dtype('int32'),\n",
       " dtype('int32'),\n",
       " dtype('float64'),\n",
       " dtype('int32'),\n",
       " dtype('int32'))"
      ]
     },
     "execution_count": 15,
     "metadata": {},
     "output_type": "execute_result"
    }
   ],
   "source": [
    "first_nparray.dtype, second_nparr.dtype, matx1.dtype, matx2.dtype, matx3.dtype"
   ]
  },
  {
   "cell_type": "code",
   "execution_count": 16,
   "id": "ab1ca832",
   "metadata": {},
   "outputs": [
    {
     "data": {
      "text/plain": [
       "(3, 3, 9, 12, 24)"
      ]
     },
     "execution_count": 16,
     "metadata": {},
     "output_type": "execute_result"
    }
   ],
   "source": [
    "first_nparray.size, second_nparr.size, matx1.size, matx2.size, matx3.size"
   ]
  },
  {
   "cell_type": "code",
   "execution_count": 17,
   "id": "cb3277c0",
   "metadata": {},
   "outputs": [
    {
     "data": {
      "text/plain": [
       "(numpy.ndarray, numpy.ndarray, numpy.ndarray, numpy.ndarray, numpy.ndarray)"
      ]
     },
     "execution_count": 17,
     "metadata": {},
     "output_type": "execute_result"
    }
   ],
   "source": [
    "type(first_nparray), type(second_nparr), type(matx1), type(matx2), type(matx3)"
   ]
  },
  {
   "cell_type": "code",
   "execution_count": 18,
   "id": "51ca9d31",
   "metadata": {},
   "outputs": [],
   "source": [
    "## create a DataFrame from a NumPy array\n",
    "\n",
    "import pandas as pd\n",
    "\n",
    "df = pd.DataFrame(first_nparray)\n",
    "df1 = pd.DataFrame(second_nparr)\n",
    "df2 = pd.DataFrame(matx1)\n"
   ]
  },
  {
   "cell_type": "code",
   "execution_count": 19,
   "id": "1fffbf18",
   "metadata": {},
   "outputs": [
    {
     "data": {
      "text/html": [
       "<div>\n",
       "<style scoped>\n",
       "    .dataframe tbody tr th:only-of-type {\n",
       "        vertical-align: middle;\n",
       "    }\n",
       "\n",
       "    .dataframe tbody tr th {\n",
       "        vertical-align: top;\n",
       "    }\n",
       "\n",
       "    .dataframe thead th {\n",
       "        text-align: right;\n",
       "    }\n",
       "</style>\n",
       "<table border=\"1\" class=\"dataframe\">\n",
       "  <thead>\n",
       "    <tr style=\"text-align: right;\">\n",
       "      <th></th>\n",
       "      <th>0</th>\n",
       "    </tr>\n",
       "  </thead>\n",
       "  <tbody>\n",
       "    <tr>\n",
       "      <th>0</th>\n",
       "      <td>2</td>\n",
       "    </tr>\n",
       "    <tr>\n",
       "      <th>1</th>\n",
       "      <td>5</td>\n",
       "    </tr>\n",
       "    <tr>\n",
       "      <th>2</th>\n",
       "      <td>8</td>\n",
       "    </tr>\n",
       "  </tbody>\n",
       "</table>\n",
       "</div>"
      ],
      "text/plain": [
       "   0\n",
       "0  2\n",
       "1  5\n",
       "2  8"
      ]
     },
     "execution_count": 19,
     "metadata": {},
     "output_type": "execute_result"
    }
   ],
   "source": [
    "df"
   ]
  },
  {
   "cell_type": "code",
   "execution_count": 20,
   "id": "cca93b11",
   "metadata": {},
   "outputs": [
    {
     "data": {
      "text/html": [
       "<div>\n",
       "<style scoped>\n",
       "    .dataframe tbody tr th:only-of-type {\n",
       "        vertical-align: middle;\n",
       "    }\n",
       "\n",
       "    .dataframe tbody tr th {\n",
       "        vertical-align: top;\n",
       "    }\n",
       "\n",
       "    .dataframe thead th {\n",
       "        text-align: right;\n",
       "    }\n",
       "</style>\n",
       "<table border=\"1\" class=\"dataframe\">\n",
       "  <thead>\n",
       "    <tr style=\"text-align: right;\">\n",
       "      <th></th>\n",
       "      <th>0</th>\n",
       "    </tr>\n",
       "  </thead>\n",
       "  <tbody>\n",
       "    <tr>\n",
       "      <th>0</th>\n",
       "      <td>7</td>\n",
       "    </tr>\n",
       "    <tr>\n",
       "      <th>1</th>\n",
       "      <td>0</td>\n",
       "    </tr>\n",
       "    <tr>\n",
       "      <th>2</th>\n",
       "      <td>1</td>\n",
       "    </tr>\n",
       "  </tbody>\n",
       "</table>\n",
       "</div>"
      ],
      "text/plain": [
       "   0\n",
       "0  7\n",
       "1  0\n",
       "2  1"
      ]
     },
     "execution_count": 20,
     "metadata": {},
     "output_type": "execute_result"
    }
   ],
   "source": [
    "df1"
   ]
  },
  {
   "cell_type": "code",
   "execution_count": 21,
   "id": "d5b1d4ce",
   "metadata": {},
   "outputs": [
    {
     "data": {
      "text/html": [
       "<div>\n",
       "<style scoped>\n",
       "    .dataframe tbody tr th:only-of-type {\n",
       "        vertical-align: middle;\n",
       "    }\n",
       "\n",
       "    .dataframe tbody tr th {\n",
       "        vertical-align: top;\n",
       "    }\n",
       "\n",
       "    .dataframe thead th {\n",
       "        text-align: right;\n",
       "    }\n",
       "</style>\n",
       "<table border=\"1\" class=\"dataframe\">\n",
       "  <thead>\n",
       "    <tr style=\"text-align: right;\">\n",
       "      <th></th>\n",
       "      <th>0</th>\n",
       "      <th>1</th>\n",
       "      <th>2</th>\n",
       "    </tr>\n",
       "  </thead>\n",
       "  <tbody>\n",
       "    <tr>\n",
       "      <th>0</th>\n",
       "      <td>1.0</td>\n",
       "      <td>2.0</td>\n",
       "      <td>2.7</td>\n",
       "    </tr>\n",
       "    <tr>\n",
       "      <th>1</th>\n",
       "      <td>3.0</td>\n",
       "      <td>4.0</td>\n",
       "      <td>5.0</td>\n",
       "    </tr>\n",
       "    <tr>\n",
       "      <th>2</th>\n",
       "      <td>5.5</td>\n",
       "      <td>6.0</td>\n",
       "      <td>7.0</td>\n",
       "    </tr>\n",
       "  </tbody>\n",
       "</table>\n",
       "</div>"
      ],
      "text/plain": [
       "     0    1    2\n",
       "0  1.0  2.0  2.7\n",
       "1  3.0  4.0  5.0\n",
       "2  5.5  6.0  7.0"
      ]
     },
     "execution_count": 21,
     "metadata": {},
     "output_type": "execute_result"
    }
   ],
   "source": [
    "df2\n",
    "# df2.shape"
   ]
  },
  {
   "cell_type": "code",
   "execution_count": 22,
   "id": "e97a82fc",
   "metadata": {},
   "outputs": [
    {
     "data": {
      "text/plain": [
       "array([[[ 1,  2],\n",
       "        [ 3,  4]],\n",
       "\n",
       "       [[ 5,  6],\n",
       "        [ 7,  8]],\n",
       "\n",
       "       [[ 9, 10],\n",
       "        [11, 12]]])"
      ]
     },
     "execution_count": 22,
     "metadata": {},
     "output_type": "execute_result"
    }
   ],
   "source": [
    "# df3 = pd.DataFrame(matx2)\n",
    "matx2"
   ]
  },
  {
   "cell_type": "code",
   "execution_count": null,
   "id": "f565e852",
   "metadata": {},
   "outputs": [],
   "source": []
  },
  {
   "cell_type": "markdown",
   "id": "d16cfbd7",
   "metadata": {},
   "source": [
    "## Creating NumPy Arrays"
   ]
  },
  {
   "cell_type": "code",
   "execution_count": 23,
   "id": "90510ce3",
   "metadata": {},
   "outputs": [],
   "source": [
    "## below will create and shape a dual-dimensional array.\n",
    "arr_of_ones = np.ones((3,3), dtype=int, order = 'F')"
   ]
  },
  {
   "cell_type": "code",
   "execution_count": 24,
   "id": "1d4c0d61",
   "metadata": {},
   "outputs": [
    {
     "data": {
      "text/plain": [
       "array([[1, 1, 1],\n",
       "       [1, 1, 1],\n",
       "       [1, 1, 1]])"
      ]
     },
     "execution_count": 24,
     "metadata": {},
     "output_type": "execute_result"
    }
   ],
   "source": [
    "arr_of_ones"
   ]
  },
  {
   "cell_type": "code",
   "execution_count": 25,
   "id": "443b7a9c",
   "metadata": {},
   "outputs": [
    {
     "data": {
      "text/plain": [
       "dtype('int32')"
      ]
     },
     "execution_count": 25,
     "metadata": {},
     "output_type": "execute_result"
    }
   ],
   "source": [
    "arr_of_ones.dtype"
   ]
  },
  {
   "cell_type": "code",
   "execution_count": 26,
   "id": "fdba1079",
   "metadata": {},
   "outputs": [
    {
     "data": {
      "text/plain": [
       "numpy.ndarray"
      ]
     },
     "execution_count": 26,
     "metadata": {},
     "output_type": "execute_result"
    }
   ],
   "source": [
    "type(arr_of_ones)"
   ]
  },
  {
   "cell_type": "code",
   "execution_count": 27,
   "id": "477ef324",
   "metadata": {},
   "outputs": [
    {
     "data": {
      "text/plain": [
       "dtype('int32')"
      ]
     },
     "execution_count": 27,
     "metadata": {},
     "output_type": "execute_result"
    }
   ],
   "source": [
    "arr_of_ones.dtype"
   ]
  },
  {
   "cell_type": "code",
   "execution_count": 28,
   "id": "d2fa998b",
   "metadata": {},
   "outputs": [
    {
     "data": {
      "text/plain": [
       "(3, 3)"
      ]
     },
     "execution_count": 28,
     "metadata": {},
     "output_type": "execute_result"
    }
   ],
   "source": [
    "arr_of_ones.shape"
   ]
  },
  {
   "cell_type": "code",
   "execution_count": 29,
   "id": "f0ed45fe",
   "metadata": {},
   "outputs": [
    {
     "data": {
      "text/plain": [
       "9"
      ]
     },
     "execution_count": 29,
     "metadata": {},
     "output_type": "execute_result"
    }
   ],
   "source": [
    "arr_of_ones.size"
   ]
  },
  {
   "cell_type": "code",
   "execution_count": 30,
   "id": "50daac8b",
   "metadata": {},
   "outputs": [],
   "source": [
    "arr_of_zeros = np.empty((3,2))"
   ]
  },
  {
   "cell_type": "code",
   "execution_count": 31,
   "id": "1388b3e5",
   "metadata": {},
   "outputs": [
    {
     "data": {
      "text/plain": [
       "array([[0., 0.],\n",
       "       [0., 0.],\n",
       "       [0., 0.]])"
      ]
     },
     "execution_count": 31,
     "metadata": {},
     "output_type": "execute_result"
    }
   ],
   "source": [
    "arr_of_zeros"
   ]
  },
  {
   "cell_type": "code",
   "execution_count": 32,
   "id": "f6dca18f",
   "metadata": {},
   "outputs": [
    {
     "data": {
      "text/plain": [
       "(3, 2)"
      ]
     },
     "execution_count": 32,
     "metadata": {},
     "output_type": "execute_result"
    }
   ],
   "source": [
    "arr_of_zeros.shape"
   ]
  },
  {
   "cell_type": "code",
   "execution_count": 33,
   "id": "95d46d50",
   "metadata": {},
   "outputs": [],
   "source": [
    "multidim_arr = np.full((1,2), [2,3])"
   ]
  },
  {
   "cell_type": "code",
   "execution_count": 34,
   "id": "dd22c3f5",
   "metadata": {},
   "outputs": [
    {
     "data": {
      "text/plain": [
       "array([[2, 3]])"
      ]
     },
     "execution_count": 34,
     "metadata": {},
     "output_type": "execute_result"
    }
   ],
   "source": [
    "multidim_arr"
   ]
  },
  {
   "cell_type": "code",
   "execution_count": 35,
   "id": "213ff8e7",
   "metadata": {},
   "outputs": [],
   "source": [
    "empty_arr = np.empty((3,3))"
   ]
  },
  {
   "cell_type": "code",
   "execution_count": 36,
   "id": "216e6e24",
   "metadata": {},
   "outputs": [
    {
     "data": {
      "text/plain": [
       "array([[1. , 2. , 2.7],\n",
       "       [3. , 4. , 5. ],\n",
       "       [5.5, 6. , 7. ]])"
      ]
     },
     "execution_count": 36,
     "metadata": {},
     "output_type": "execute_result"
    }
   ],
   "source": [
    "empty_arr"
   ]
  },
  {
   "cell_type": "code",
   "execution_count": 37,
   "id": "615cb572",
   "metadata": {},
   "outputs": [
    {
     "data": {
      "text/plain": [
       "dtype('float64')"
      ]
     },
     "execution_count": 37,
     "metadata": {},
     "output_type": "execute_result"
    }
   ],
   "source": [
    "empty_arr.dtype"
   ]
  },
  {
   "cell_type": "code",
   "execution_count": 38,
   "id": "77a7eed2",
   "metadata": {},
   "outputs": [
    {
     "data": {
      "text/plain": [
       "(3, 3)"
      ]
     },
     "execution_count": 38,
     "metadata": {},
     "output_type": "execute_result"
    }
   ],
   "source": [
    "empty_arr.shape"
   ]
  },
  {
   "cell_type": "markdown",
   "id": "fcc88678",
   "metadata": {},
   "source": [
    "empty_arr.sise"
   ]
  },
  {
   "cell_type": "code",
   "execution_count": 39,
   "id": "e7c8ad1b",
   "metadata": {},
   "outputs": [
    {
     "data": {
      "text/plain": [
       "9"
      ]
     },
     "execution_count": 39,
     "metadata": {},
     "output_type": "execute_result"
    }
   ],
   "source": [
    "empty_arr.size"
   ]
  },
  {
   "cell_type": "code",
   "execution_count": 40,
   "id": "0f2bffc7",
   "metadata": {},
   "outputs": [],
   "source": [
    "range_arr = np.arange(1,12)"
   ]
  },
  {
   "cell_type": "code",
   "execution_count": 41,
   "id": "c0fdb68b",
   "metadata": {},
   "outputs": [
    {
     "data": {
      "text/plain": [
       "array([ 1,  2,  3,  4,  5,  6,  7,  8,  9, 10, 11])"
      ]
     },
     "execution_count": 41,
     "metadata": {},
     "output_type": "execute_result"
    }
   ],
   "source": [
    "range_arr"
   ]
  },
  {
   "cell_type": "code",
   "execution_count": 42,
   "id": "7b6647f8",
   "metadata": {},
   "outputs": [],
   "source": [
    "range_arr1 = np.arange(0,10,3)"
   ]
  },
  {
   "cell_type": "code",
   "execution_count": 43,
   "id": "8acdc4da",
   "metadata": {},
   "outputs": [
    {
     "data": {
      "text/plain": [
       "array([0, 3, 6, 9])"
      ]
     },
     "execution_count": 43,
     "metadata": {},
     "output_type": "execute_result"
    }
   ],
   "source": [
    "range_arr1"
   ]
  },
  {
   "cell_type": "code",
   "execution_count": 44,
   "id": "baa20325",
   "metadata": {},
   "outputs": [],
   "source": [
    "rando_arr = np.random.randint(1,14, size=(3,4))"
   ]
  },
  {
   "cell_type": "code",
   "execution_count": 45,
   "id": "27884f71",
   "metadata": {},
   "outputs": [
    {
     "data": {
      "text/plain": [
       "array([[10, 12,  5,  8],\n",
       "       [ 7,  6,  6,  6],\n",
       "       [ 4,  7, 13,  3]])"
      ]
     },
     "execution_count": 45,
     "metadata": {},
     "output_type": "execute_result"
    }
   ],
   "source": [
    "rando_arr"
   ]
  },
  {
   "cell_type": "code",
   "execution_count": 46,
   "id": "5ddf4699",
   "metadata": {},
   "outputs": [],
   "source": [
    "rand_arr = np.random.randint(10, size=6)"
   ]
  },
  {
   "cell_type": "code",
   "execution_count": 47,
   "id": "9ef1f8f9",
   "metadata": {},
   "outputs": [
    {
     "data": {
      "text/plain": [
       "array([2, 0, 5, 5, 2, 6])"
      ]
     },
     "execution_count": 47,
     "metadata": {},
     "output_type": "execute_result"
    }
   ],
   "source": [
    "rand_arr"
   ]
  },
  {
   "cell_type": "code",
   "execution_count": 48,
   "id": "b21ec9be",
   "metadata": {},
   "outputs": [],
   "source": [
    "rand_arr1 = np.random.randint(20, size=(4,4), dtype=int)"
   ]
  },
  {
   "cell_type": "code",
   "execution_count": 49,
   "id": "1b06ce6d",
   "metadata": {},
   "outputs": [
    {
     "data": {
      "text/plain": [
       "array([[ 3, 17, 19,  8],\n",
       "       [13, 18, 18, 10],\n",
       "       [10, 13, 14,  4],\n",
       "       [ 0,  5, 15,  4]])"
      ]
     },
     "execution_count": 49,
     "metadata": {},
     "output_type": "execute_result"
    }
   ],
   "source": [
    "rand_arr1"
   ]
  },
  {
   "cell_type": "code",
   "execution_count": 50,
   "id": "594b6051",
   "metadata": {},
   "outputs": [
    {
     "data": {
      "text/plain": [
       "dtype('int32')"
      ]
     },
     "execution_count": 50,
     "metadata": {},
     "output_type": "execute_result"
    }
   ],
   "source": [
    "rand_arr1.dtype"
   ]
  },
  {
   "cell_type": "code",
   "execution_count": 51,
   "id": "be05e191",
   "metadata": {},
   "outputs": [
    {
     "data": {
      "text/plain": [
       "16"
      ]
     },
     "execution_count": 51,
     "metadata": {},
     "output_type": "execute_result"
    }
   ],
   "source": [
    "rand_arr1.size"
   ]
  },
  {
   "cell_type": "code",
   "execution_count": 52,
   "id": "0c63714f",
   "metadata": {},
   "outputs": [],
   "source": [
    "## here is another way to create random arrays\n",
    "rand_arr2 = np.random.random((4,4))"
   ]
  },
  {
   "cell_type": "code",
   "execution_count": 53,
   "id": "08da12b0",
   "metadata": {},
   "outputs": [
    {
     "data": {
      "text/plain": [
       "array([[0.77826074, 0.56158284, 0.77086603, 0.16723255],\n",
       "       [0.32653798, 0.54483733, 0.91627468, 0.11503517],\n",
       "       [0.30149422, 0.58009108, 0.08804394, 0.6106729 ],\n",
       "       [0.18618151, 0.84855721, 0.03296845, 0.67885662]])"
      ]
     },
     "execution_count": 53,
     "metadata": {},
     "output_type": "execute_result"
    }
   ],
   "source": [
    "rand_arr2"
   ]
  },
  {
   "cell_type": "code",
   "execution_count": 54,
   "id": "d46ce870",
   "metadata": {},
   "outputs": [],
   "source": [
    "## yet another random generating technique\n",
    "rand_arr3 = np.random.rand(3,3)"
   ]
  },
  {
   "cell_type": "code",
   "execution_count": 55,
   "id": "b90c79b5",
   "metadata": {},
   "outputs": [
    {
     "data": {
      "text/plain": [
       "array([[0.23145189, 0.48634903, 0.11344162],\n",
       "       [0.91530318, 0.37007641, 0.59978866],\n",
       "       [0.31888854, 0.43233397, 0.06075116]])"
      ]
     },
     "execution_count": 55,
     "metadata": {},
     "output_type": "execute_result"
    }
   ],
   "source": [
    "rand_arr3"
   ]
  },
  {
   "cell_type": "code",
   "execution_count": null,
   "id": "ac42c118",
   "metadata": {},
   "outputs": [],
   "source": []
  },
  {
   "cell_type": "code",
   "execution_count": 56,
   "id": "4ddff360",
   "metadata": {},
   "outputs": [
    {
     "data": {
      "text/plain": [
       "array([[4, 5, 0],\n",
       "       [3, 3, 3],\n",
       "       [1, 3, 5],\n",
       "       [2, 4, 6],\n",
       "       [0, 0, 4]])"
      ]
     },
     "execution_count": 56,
     "metadata": {},
     "output_type": "execute_result"
    }
   ],
   "source": [
    "# pseudo random numbers\n",
    "np.random.seed(seed=0)\n",
    "rand_arr4 = np.random.randint(7, size=(5,3))\n",
    "rand_arr4"
   ]
  },
  {
   "cell_type": "code",
   "execution_count": 57,
   "id": "5d1f57bc",
   "metadata": {},
   "outputs": [
    {
     "data": {
      "text/plain": [
       "array([[3, 0, 1],\n",
       "       [1, 1, 2],\n",
       "       [0, 3, 0],\n",
       "       [3, 0, 1]])"
      ]
     },
     "execution_count": 57,
     "metadata": {},
     "output_type": "execute_result"
    }
   ],
   "source": [
    "np.random.seed(seed=8)\n",
    "rand_arr5 = np.random.randint(4, size=(4,3))\n",
    "rand_arr5"
   ]
  },
  {
   "cell_type": "code",
   "execution_count": null,
   "id": "62d99a13",
   "metadata": {},
   "outputs": [],
   "source": []
  },
  {
   "cell_type": "markdown",
   "id": "e2929ea3",
   "metadata": {},
   "source": [
    "## different ways of viewing arrays and matrices"
   ]
  },
  {
   "cell_type": "code",
   "execution_count": 58,
   "id": "091c1c11",
   "metadata": {},
   "outputs": [
    {
     "data": {
      "text/plain": [
       "array([0, 1, 2, 3])"
      ]
     },
     "execution_count": 58,
     "metadata": {},
     "output_type": "execute_result"
    }
   ],
   "source": [
    "np.unique(rand_arr5)"
   ]
  },
  {
   "cell_type": "code",
   "execution_count": 59,
   "id": "90754590",
   "metadata": {},
   "outputs": [
    {
     "data": {
      "text/plain": [
       "array([1, 1, 2])"
      ]
     },
     "execution_count": 59,
     "metadata": {},
     "output_type": "execute_result"
    }
   ],
   "source": [
    "rand_arr5[1]"
   ]
  },
  {
   "cell_type": "code",
   "execution_count": 60,
   "id": "4890b457",
   "metadata": {},
   "outputs": [
    {
     "data": {
      "text/plain": [
       "2"
      ]
     },
     "execution_count": 60,
     "metadata": {},
     "output_type": "execute_result"
    }
   ],
   "source": [
    "rand_arr5[1][2]"
   ]
  },
  {
   "cell_type": "code",
   "execution_count": 61,
   "id": "6f3af41b",
   "metadata": {},
   "outputs": [
    {
     "data": {
      "text/plain": [
       "array([[3, 0, 1],\n",
       "       [1, 1, 2],\n",
       "       [0, 3, 0],\n",
       "       [3, 0, 1]])"
      ]
     },
     "execution_count": 61,
     "metadata": {},
     "output_type": "execute_result"
    }
   ],
   "source": [
    "rand_arr5"
   ]
  },
  {
   "cell_type": "code",
   "execution_count": 62,
   "id": "15948a1f",
   "metadata": {},
   "outputs": [
    {
     "data": {
      "text/plain": [
       "array([[3, 0],\n",
       "       [1, 1]])"
      ]
     },
     "execution_count": 62,
     "metadata": {},
     "output_type": "execute_result"
    }
   ],
   "source": [
    "rand_arr5[:2, :2]"
   ]
  },
  {
   "cell_type": "code",
   "execution_count": 63,
   "id": "f818116b",
   "metadata": {},
   "outputs": [
    {
     "data": {
      "text/plain": [
       "array([[[[5, 4, 1, 3, 2, 3, 4],\n",
       "         [5, 1, 5, 5, 2, 3, 2],\n",
       "         [6, 6, 5, 0, 1, 3, 4],\n",
       "         [5, 5, 3, 2, 1, 2, 2],\n",
       "         [6, 1, 5, 5, 6, 1, 3],\n",
       "         [4, 3, 3, 6, 4, 5, 5]],\n",
       "\n",
       "        [[0, 4, 4, 2, 0, 5, 2],\n",
       "         [6, 4, 3, 0, 1, 4, 6],\n",
       "         [3, 4, 5, 3, 2, 2, 6],\n",
       "         [6, 6, 2, 6, 1, 6, 0],\n",
       "         [1, 2, 6, 1, 2, 6, 2],\n",
       "         [3, 3, 0, 1, 0, 0, 6]],\n",
       "\n",
       "        [[6, 1, 4, 1, 4, 0, 2],\n",
       "         [2, 0, 6, 4, 5, 2, 3],\n",
       "         [3, 3, 3, 6, 4, 0, 1],\n",
       "         [6, 3, 2, 0, 0, 5, 4],\n",
       "         [3, 4, 3, 0, 1, 0, 3],\n",
       "         [2, 1, 5, 2, 6, 6, 3]],\n",
       "\n",
       "        [[0, 2, 1, 5, 6, 4, 4],\n",
       "         [5, 1, 3, 5, 5, 4, 0],\n",
       "         [0, 4, 0, 6, 0, 1, 0],\n",
       "         [0, 1, 6, 5, 5, 4, 2],\n",
       "         [2, 5, 6, 2, 4, 2, 6],\n",
       "         [5, 2, 0, 4, 3, 2, 4]]],\n",
       "\n",
       "\n",
       "       [[[1, 5, 6, 3, 3, 0, 4],\n",
       "         [4, 6, 0, 4, 6, 1, 0],\n",
       "         [5, 3, 4, 0, 2, 3, 2],\n",
       "         [5, 2, 5, 2, 3, 6, 1],\n",
       "         [6, 2, 4, 2, 1, 2, 4],\n",
       "         [2, 4, 6, 3, 1, 1, 1]],\n",
       "\n",
       "        [[3, 4, 0, 2, 0, 0, 1],\n",
       "         [5, 2, 4, 3, 2, 4, 5],\n",
       "         [1, 1, 6, 0, 1, 4, 0],\n",
       "         [0, 5, 4, 0, 1, 6, 0],\n",
       "         [6, 1, 4, 5, 5, 1, 1],\n",
       "         [6, 4, 1, 2, 3, 6, 3]],\n",
       "\n",
       "        [[6, 4, 3, 3, 3, 4, 2],\n",
       "         [2, 0, 4, 0, 6, 3, 1],\n",
       "         [0, 1, 4, 6, 6, 2, 4],\n",
       "         [2, 5, 1, 5, 3, 5, 4],\n",
       "         [4, 2, 6, 5, 5, 1, 2],\n",
       "         [5, 4, 2, 3, 1, 6, 4]],\n",
       "\n",
       "        [[2, 1, 4, 2, 0, 5, 3],\n",
       "         [1, 4, 5, 3, 2, 6, 1],\n",
       "         [5, 3, 5, 4, 2, 4, 5],\n",
       "         [0, 0, 2, 4, 3, 4, 3],\n",
       "         [1, 1, 0, 1, 1, 5, 6],\n",
       "         [2, 3, 3, 6, 2, 2, 4]]],\n",
       "\n",
       "\n",
       "       [[[1, 6, 2, 4, 1, 4, 3],\n",
       "         [0, 6, 2, 6, 4, 1, 5],\n",
       "         [4, 5, 0, 3, 2, 0, 1],\n",
       "         [1, 3, 5, 3, 2, 5, 5],\n",
       "         [3, 1, 0, 3, 5, 6, 0],\n",
       "         [1, 4, 6, 1, 5, 1, 4]],\n",
       "\n",
       "        [[5, 1, 4, 2, 5, 3, 3],\n",
       "         [0, 3, 0, 6, 2, 6, 4],\n",
       "         [5, 2, 6, 1, 6, 6, 1],\n",
       "         [3, 3, 0, 5, 1, 2, 2],\n",
       "         [6, 2, 3, 3, 2, 1, 0],\n",
       "         [4, 1, 6, 2, 1, 6, 2]],\n",
       "\n",
       "        [[3, 5, 5, 6, 5, 4, 4],\n",
       "         [4, 1, 5, 5, 3, 3, 5],\n",
       "         [3, 0, 5, 6, 4, 1, 5],\n",
       "         [1, 6, 2, 6, 0, 3, 1],\n",
       "         [5, 0, 2, 1, 6, 1, 3],\n",
       "         [4, 4, 6, 6, 2, 5, 4]],\n",
       "\n",
       "        [[3, 3, 1, 5, 0, 5, 5],\n",
       "         [6, 3, 3, 2, 5, 0, 3],\n",
       "         [2, 6, 2, 3, 2, 6, 1],\n",
       "         [6, 3, 2, 5, 5, 4, 4],\n",
       "         [4, 1, 2, 0, 1, 1, 3],\n",
       "         [1, 2, 0, 5, 3, 4, 2]]]])"
      ]
     },
     "execution_count": 63,
     "metadata": {},
     "output_type": "execute_result"
    }
   ],
   "source": [
    "## create a 4-dim array\n",
    "d4 = np.random.randint(7, size=(3,4,6,7))\n",
    "d4"
   ]
  },
  {
   "cell_type": "code",
   "execution_count": 64,
   "id": "05bcfec1",
   "metadata": {},
   "outputs": [
    {
     "data": {
      "text/plain": [
       "array([0, 1, 2, 3, 4, 5, 6])"
      ]
     },
     "execution_count": 64,
     "metadata": {},
     "output_type": "execute_result"
    }
   ],
   "source": [
    "np.unique(d4)"
   ]
  },
  {
   "cell_type": "code",
   "execution_count": 65,
   "id": "33b5c1a3",
   "metadata": {},
   "outputs": [
    {
     "data": {
      "text/plain": [
       "array([5, 1, 5, 5, 2, 3, 2])"
      ]
     },
     "execution_count": 65,
     "metadata": {},
     "output_type": "execute_result"
    }
   ],
   "source": [
    "d4[0][0][1]"
   ]
  },
  {
   "cell_type": "code",
   "execution_count": 66,
   "id": "016799cb",
   "metadata": {},
   "outputs": [
    {
     "data": {
      "text/plain": [
       "array([[3, 4, 0, 2]])"
      ]
     },
     "execution_count": 66,
     "metadata": {},
     "output_type": "execute_result"
    }
   ],
   "source": [
    "d4[1][1][:1, :4]"
   ]
  },
  {
   "cell_type": "code",
   "execution_count": 67,
   "id": "b55bb9c0",
   "metadata": {},
   "outputs": [
    {
     "data": {
      "text/plain": [
       "array([[[[5, 4],\n",
       "         [5, 1],\n",
       "         [6, 6],\n",
       "         [5, 5],\n",
       "         [6, 1],\n",
       "         [4, 3]],\n",
       "\n",
       "        [[0, 4],\n",
       "         [6, 4],\n",
       "         [3, 4],\n",
       "         [6, 6],\n",
       "         [1, 2],\n",
       "         [3, 3]],\n",
       "\n",
       "        [[6, 1],\n",
       "         [2, 0],\n",
       "         [3, 3],\n",
       "         [6, 3],\n",
       "         [3, 4],\n",
       "         [2, 1]],\n",
       "\n",
       "        [[0, 2],\n",
       "         [5, 1],\n",
       "         [0, 4],\n",
       "         [0, 1],\n",
       "         [2, 5],\n",
       "         [5, 2]]],\n",
       "\n",
       "\n",
       "       [[[1, 5],\n",
       "         [4, 6],\n",
       "         [5, 3],\n",
       "         [5, 2],\n",
       "         [6, 2],\n",
       "         [2, 4]],\n",
       "\n",
       "        [[3, 4],\n",
       "         [5, 2],\n",
       "         [1, 1],\n",
       "         [0, 5],\n",
       "         [6, 1],\n",
       "         [6, 4]],\n",
       "\n",
       "        [[6, 4],\n",
       "         [2, 0],\n",
       "         [0, 1],\n",
       "         [2, 5],\n",
       "         [4, 2],\n",
       "         [5, 4]],\n",
       "\n",
       "        [[2, 1],\n",
       "         [1, 4],\n",
       "         [5, 3],\n",
       "         [0, 0],\n",
       "         [1, 1],\n",
       "         [2, 3]]],\n",
       "\n",
       "\n",
       "       [[[1, 6],\n",
       "         [0, 6],\n",
       "         [4, 5],\n",
       "         [1, 3],\n",
       "         [3, 1],\n",
       "         [1, 4]],\n",
       "\n",
       "        [[5, 1],\n",
       "         [0, 3],\n",
       "         [5, 2],\n",
       "         [3, 3],\n",
       "         [6, 2],\n",
       "         [4, 1]],\n",
       "\n",
       "        [[3, 5],\n",
       "         [4, 1],\n",
       "         [3, 0],\n",
       "         [1, 6],\n",
       "         [5, 0],\n",
       "         [4, 4]],\n",
       "\n",
       "        [[3, 3],\n",
       "         [6, 3],\n",
       "         [2, 6],\n",
       "         [6, 3],\n",
       "         [4, 1],\n",
       "         [1, 2]]]])"
      ]
     },
     "execution_count": 67,
     "metadata": {},
     "output_type": "execute_result"
    }
   ],
   "source": [
    "d4[:,:,:,:2]"
   ]
  },
  {
   "cell_type": "markdown",
   "id": "1fe91d2f",
   "metadata": {},
   "source": [
    "## Manipulating and Comparing Arrays: the essence of ml"
   ]
  },
  {
   "cell_type": "code",
   "execution_count": 68,
   "id": "157ab67b",
   "metadata": {},
   "outputs": [
    {
     "data": {
      "text/plain": [
       "array([2., 3., 4.])"
      ]
     },
     "execution_count": 68,
     "metadata": {},
     "output_type": "execute_result"
    }
   ],
   "source": [
    "## Arithmetic\n",
    "\n",
    "\n",
    "vec\n",
    "# now create an array of 1s\n",
    "ones = np.ones(3)\n",
    "vec + ones"
   ]
  },
  {
   "cell_type": "code",
   "execution_count": 69,
   "id": "52419fd0",
   "metadata": {},
   "outputs": [
    {
     "data": {
      "text/plain": [
       "array([0., 1., 2.])"
      ]
     },
     "execution_count": 69,
     "metadata": {},
     "output_type": "execute_result"
    }
   ],
   "source": [
    "vec - ones"
   ]
  },
  {
   "cell_type": "code",
   "execution_count": 70,
   "id": "9111b5af",
   "metadata": {},
   "outputs": [
    {
     "data": {
      "text/plain": [
       "array([1., 2., 3.])"
      ]
     },
     "execution_count": 70,
     "metadata": {},
     "output_type": "execute_result"
    }
   ],
   "source": [
    "vec * ones"
   ]
  },
  {
   "cell_type": "code",
   "execution_count": 71,
   "id": "b2de1eb7",
   "metadata": {},
   "outputs": [
    {
     "data": {
      "text/plain": [
       "array([1., 2., 3.])"
      ]
     },
     "execution_count": 71,
     "metadata": {},
     "output_type": "execute_result"
    }
   ],
   "source": [
    "vec / ones"
   ]
  },
  {
   "cell_type": "code",
   "execution_count": 72,
   "id": "afe5c980",
   "metadata": {},
   "outputs": [
    {
     "data": {
      "text/plain": [
       "array([ 2, 10, 24])"
      ]
     },
     "execution_count": 72,
     "metadata": {},
     "output_type": "execute_result"
    }
   ],
   "source": [
    "vec * first_nparray"
   ]
  },
  {
   "cell_type": "code",
   "execution_count": 73,
   "id": "1f9eb4d4",
   "metadata": {},
   "outputs": [
    {
     "data": {
      "text/plain": [
       "array([[3, 0, 3],\n",
       "       [1, 2, 6],\n",
       "       [0, 6, 0],\n",
       "       [3, 0, 3]])"
      ]
     },
     "execution_count": 73,
     "metadata": {},
     "output_type": "execute_result"
    }
   ],
   "source": [
    "vec *rand_arr5"
   ]
  },
  {
   "cell_type": "code",
   "execution_count": 74,
   "id": "fa4a196c",
   "metadata": {},
   "outputs": [
    {
     "data": {
      "text/plain": [
       "array([1, 2, 3])"
      ]
     },
     "execution_count": 74,
     "metadata": {},
     "output_type": "execute_result"
    }
   ],
   "source": [
    "vec"
   ]
  },
  {
   "cell_type": "code",
   "execution_count": 75,
   "id": "080a771c",
   "metadata": {},
   "outputs": [
    {
     "data": {
      "text/plain": [
       "array([[3, 0, 1],\n",
       "       [1, 1, 2],\n",
       "       [0, 3, 0],\n",
       "       [3, 0, 1]])"
      ]
     },
     "execution_count": 75,
     "metadata": {},
     "output_type": "execute_result"
    }
   ],
   "source": [
    "rand_arr5"
   ]
  },
  {
   "cell_type": "code",
   "execution_count": 76,
   "id": "81dff72f",
   "metadata": {},
   "outputs": [
    {
     "data": {
      "text/plain": [
       "array([[0, 0, 1],\n",
       "       [1, 1, 2],\n",
       "       [0, 0, 0],\n",
       "       [0, 0, 1]], dtype=int32)"
      ]
     },
     "execution_count": 76,
     "metadata": {},
     "output_type": "execute_result"
    }
   ],
   "source": [
    "rand_arr5 % 3"
   ]
  },
  {
   "cell_type": "code",
   "execution_count": 77,
   "id": "c6311043",
   "metadata": {},
   "outputs": [
    {
     "data": {
      "text/plain": [
       "array([ 3,  7, 11])"
      ]
     },
     "execution_count": 77,
     "metadata": {},
     "output_type": "execute_result"
    }
   ],
   "source": [
    "np.add(vec, first_nparray)"
   ]
  },
  {
   "cell_type": "code",
   "execution_count": 78,
   "id": "8d97d2cf",
   "metadata": {},
   "outputs": [
    {
     "data": {
      "text/plain": [
       "array([0, 1, 0], dtype=int32)"
      ]
     },
     "execution_count": 78,
     "metadata": {},
     "output_type": "execute_result"
    }
   ],
   "source": [
    "first_nparray % 2"
   ]
  },
  {
   "cell_type": "code",
   "execution_count": 79,
   "id": "4cbeb49f",
   "metadata": {},
   "outputs": [
    {
     "data": {
      "text/plain": [
       "array([ 2.71828183,  7.3890561 , 20.08553692])"
      ]
     },
     "execution_count": 79,
     "metadata": {},
     "output_type": "execute_result"
    }
   ],
   "source": [
    "np.exp(vec)"
   ]
  },
  {
   "cell_type": "code",
   "execution_count": 80,
   "id": "0c44bfde",
   "metadata": {},
   "outputs": [
    {
     "data": {
      "text/plain": [
       "array([1, 2, 3])"
      ]
     },
     "execution_count": 80,
     "metadata": {},
     "output_type": "execute_result"
    }
   ],
   "source": [
    "vec"
   ]
  },
  {
   "cell_type": "code",
   "execution_count": 81,
   "id": "2bf7c8e0",
   "metadata": {},
   "outputs": [
    {
     "data": {
      "text/plain": [
       "array([0.        , 0.69314718, 1.09861229])"
      ]
     },
     "execution_count": 81,
     "metadata": {},
     "output_type": "execute_result"
    }
   ],
   "source": [
    "np.log(vec)"
   ]
  },
  {
   "cell_type": "code",
   "execution_count": 82,
   "id": "4db9be73",
   "metadata": {},
   "outputs": [
    {
     "data": {
      "text/plain": [
       "array([0.69314718, 1.60943791, 2.07944154])"
      ]
     },
     "execution_count": 82,
     "metadata": {},
     "output_type": "execute_result"
    }
   ],
   "source": [
    "np.log(first_nparray)"
   ]
  },
  {
   "cell_type": "code",
   "execution_count": 83,
   "id": "3885bdcd",
   "metadata": {},
   "outputs": [
    {
     "data": {
      "text/plain": [
       "array([2, 5, 8])"
      ]
     },
     "execution_count": 83,
     "metadata": {},
     "output_type": "execute_result"
    }
   ],
   "source": [
    "first_nparray"
   ]
  },
  {
   "cell_type": "markdown",
   "id": "827bdedf",
   "metadata": {},
   "source": [
    "### Aggregation"
   ]
  },
  {
   "cell_type": "code",
   "execution_count": 84,
   "id": "d6db3288",
   "metadata": {},
   "outputs": [
    {
     "data": {
      "text/plain": [
       "6"
      ]
     },
     "execution_count": 84,
     "metadata": {},
     "output_type": "execute_result"
    }
   ],
   "source": [
    "sum(vec)"
   ]
  },
  {
   "cell_type": "code",
   "execution_count": 85,
   "id": "50733c9d",
   "metadata": {},
   "outputs": [
    {
     "data": {
      "text/plain": [
       "array([1, 2, 3])"
      ]
     },
     "execution_count": 85,
     "metadata": {},
     "output_type": "execute_result"
    }
   ],
   "source": [
    "vec"
   ]
  },
  {
   "cell_type": "code",
   "execution_count": 86,
   "id": "c5878e5e",
   "metadata": {},
   "outputs": [
    {
     "data": {
      "text/plain": [
       "numpy.ndarray"
      ]
     },
     "execution_count": 86,
     "metadata": {},
     "output_type": "execute_result"
    }
   ],
   "source": [
    "type(vec)"
   ]
  },
  {
   "cell_type": "markdown",
   "id": "b276e97b",
   "metadata": {},
   "source": [
    "#### NumPy's aggregation method is np.sum() while python's is sum()"
   ]
  },
  {
   "cell_type": "markdown",
   "id": "19541357",
   "metadata": {},
   "source": [
    "### create a massive numpy array then use python's and numpy's sum methods with the magic function (%timeit) to check which is faster"
   ]
  },
  {
   "cell_type": "code",
   "execution_count": 87,
   "id": "d938fd6f",
   "metadata": {},
   "outputs": [
    {
     "data": {
      "text/plain": [
       "1000000"
      ]
     },
     "execution_count": 87,
     "metadata": {},
     "output_type": "execute_result"
    }
   ],
   "source": [
    "huge_arr = np.random.random(1000000)\n",
    "huge_arr.size"
   ]
  },
  {
   "cell_type": "code",
   "execution_count": 88,
   "id": "3bccd073",
   "metadata": {},
   "outputs": [
    {
     "name": "stdout",
     "output_type": "stream",
     "text": [
      "2.23 ms ± 114 µs per loop (mean ± std. dev. of 7 runs, 100 loops each)\n",
      "224 ms ± 16.5 ms per loop (mean ± std. dev. of 7 runs, 1 loop each)\n"
     ]
    }
   ],
   "source": [
    "## use both methods with %timeit\n",
    "%timeit np.sum(huge_arr) # NumPy\n",
    "%timeit sum(huge_arr)"
   ]
  },
  {
   "cell_type": "code",
   "execution_count": 89,
   "id": "3630a8f7",
   "metadata": {},
   "outputs": [
    {
     "data": {
      "text/plain": [
       "728.099173553719"
      ]
     },
     "execution_count": 89,
     "metadata": {},
     "output_type": "execute_result"
    }
   ],
   "source": [
    "# 1 millisecond = 1000 miscroseconds\n",
    "#the outcome below shows that numpy's aggregate function is 726 times faster than python's.\n",
    "88100 / 121"
   ]
  },
  {
   "cell_type": "code",
   "execution_count": 90,
   "id": "16b8ee3e",
   "metadata": {},
   "outputs": [
    {
     "name": "stdout",
     "output_type": "stream",
     "text": [
      "2.01 ms ± 145 µs per loop (mean ± std. dev. of 7 runs, 1000 loops each)\n"
     ]
    }
   ],
   "source": [
    "#mean of vec\n",
    "# %timeit mean(huge_arr) #python\n",
    "%timeit np.mean(huge_arr) #numpy"
   ]
  },
  {
   "cell_type": "code",
   "execution_count": 91,
   "id": "548702cc",
   "metadata": {},
   "outputs": [
    {
     "name": "stdout",
     "output_type": "stream",
     "text": [
      "1.14 ms ± 101 µs per loop (mean ± std. dev. of 7 runs, 1000 loops each)\n"
     ]
    }
   ],
   "source": [
    "%timeit np.max(huge_arr)"
   ]
  },
  {
   "cell_type": "code",
   "execution_count": 92,
   "id": "12f91f8a",
   "metadata": {},
   "outputs": [
    {
     "name": "stdout",
     "output_type": "stream",
     "text": [
      "1.01 ms ± 23.4 µs per loop (mean ± std. dev. of 7 runs, 1000 loops each)\n"
     ]
    }
   ],
   "source": [
    "%timeit np.min(huge_arr)"
   ]
  },
  {
   "cell_type": "code",
   "execution_count": 93,
   "id": "f792c0f1",
   "metadata": {},
   "outputs": [
    {
     "name": "stdout",
     "output_type": "stream",
     "text": [
      "11.3 ms ± 106 µs per loop (mean ± std. dev. of 7 runs, 100 loops each)\n"
     ]
    }
   ],
   "source": [
    "#standard deviation is the square root of the variance\n",
    "%timeit np.std(huge_arr)"
   ]
  },
  {
   "cell_type": "code",
   "execution_count": 94,
   "id": "8dca2b35",
   "metadata": {},
   "outputs": [
    {
     "data": {
      "text/plain": [
       "0.08338018574200581"
      ]
     },
     "execution_count": 94,
     "metadata": {},
     "output_type": "execute_result"
    }
   ],
   "source": [
    "#variance = measure of the average degree to which each nmumber is different from the mean i.e\n",
    "    # higher variance = wider range of numbers\n",
    "    # lower variance = lower range of numbers\n",
    "np.var(huge_arr)"
   ]
  },
  {
   "cell_type": "markdown",
   "id": "79b85c52",
   "metadata": {},
   "source": [
    "### standard deviation and variance"
   ]
  },
  {
   "cell_type": "code",
   "execution_count": 95,
   "id": "14caaac5",
   "metadata": {},
   "outputs": [
    {
     "data": {
      "text/plain": [
       "(41537161.44, 18.0)"
      ]
     },
     "execution_count": 95,
     "metadata": {},
     "output_type": "execute_result"
    }
   ],
   "source": [
    "high_var_arr = np.array([3,600,900,12000,15000])\n",
    "low_var_arr = np.array([3,6,9,12,15])\n",
    "\n",
    "# check the variance of both arrays\n",
    "np.var(high_var_arr), np.var(low_var_arr)"
   ]
  },
  {
   "cell_type": "code",
   "execution_count": 96,
   "id": "073430a7",
   "metadata": {},
   "outputs": [
    {
     "data": {
      "text/plain": [
       "(6444.933005082365, 4.242640687119285)"
      ]
     },
     "execution_count": 96,
     "metadata": {},
     "output_type": "execute_result"
    }
   ],
   "source": [
    "#check the standard deviation\n",
    "np.std(high_var_arr), np.std(low_var_arr)"
   ]
  },
  {
   "cell_type": "code",
   "execution_count": 97,
   "id": "f02db734",
   "metadata": {},
   "outputs": [
    {
     "data": {
      "text/plain": [
       "41537161.44"
      ]
     },
     "execution_count": 97,
     "metadata": {},
     "output_type": "execute_result"
    }
   ],
   "source": [
    "#this is to prove that truly the std is the square root of the variance\n",
    "6444.933005082365**2"
   ]
  },
  {
   "cell_type": "code",
   "execution_count": 98,
   "id": "c4aab67f",
   "metadata": {},
   "outputs": [
    {
     "data": {
      "image/png": "[encoded data removed]",
      "text/plain": [
       "<Figure size 432x288 with 1 Axes>"
      ]
     },
     "metadata": {
      "needs_background": "light"
     },
     "output_type": "display_data"
    }
   ],
   "source": [
    "#visualize the calculations using matplotlib\n",
    "%matplotlib inline\n",
    "import matplotlib.pyplot as plt\n",
    "plt.hist(high_var_arr)\n",
    "plt.show()"
   ]
  },
  {
   "cell_type": "code",
   "execution_count": 99,
   "id": "4edfa1b0",
   "metadata": {},
   "outputs": [
    {
     "data": {
      "image/png": "[encoded data removed]",
      "text/plain": [
       "<Figure size 432x288 with 1 Axes>"
      ]
     },
     "metadata": {
      "needs_background": "light"
     },
     "output_type": "display_data"
    }
   ],
   "source": [
    "plt.hist(low_var_arr)\n",
    "plt.show()"
   ]
  },
  {
   "cell_type": "markdown",
   "id": "fdc664d6",
   "metadata": {},
   "source": [
    "### it suffices to say that std and var are measures that show data spread"
   ]
  },
  {
   "cell_type": "code",
   "execution_count": 100,
   "id": "cec2736a",
   "metadata": {},
   "outputs": [
    {
     "data": {
      "text/plain": [
       "((5,), (5,), (3,))"
      ]
     },
     "execution_count": 100,
     "metadata": {},
     "output_type": "execute_result"
    }
   ],
   "source": [
    "high_var_arr.shape, low_var_arr.shape, vec.shape"
   ]
  },
  {
   "cell_type": "code",
   "execution_count": 101,
   "id": "550accfb",
   "metadata": {},
   "outputs": [
    {
     "data": {
      "text/plain": [
       "array([1, 2, 3])"
      ]
     },
     "execution_count": 101,
     "metadata": {},
     "output_type": "execute_result"
    }
   ],
   "source": [
    "vec"
   ]
  },
  {
   "cell_type": "code",
   "execution_count": 102,
   "id": "701ed06d",
   "metadata": {},
   "outputs": [
    {
     "data": {
      "text/plain": [
       "array([ 3,  6,  9, 12, 15])"
      ]
     },
     "execution_count": 102,
     "metadata": {},
     "output_type": "execute_result"
    }
   ],
   "source": [
    "low_var_arr"
   ]
  },
  {
   "cell_type": "code",
   "execution_count": 103,
   "id": "39b954c3",
   "metadata": {},
   "outputs": [
    {
     "data": {
      "text/plain": [
       "array([[[0, 3, 3],\n",
       "        [2, 4, 1],\n",
       "        [0, 1, 3]],\n",
       "\n",
       "       [[3, 4, 1],\n",
       "        [2, 1, 1],\n",
       "        [2, 2, 4]]])"
      ]
     },
     "execution_count": 103,
     "metadata": {},
     "output_type": "execute_result"
    }
   ],
   "source": [
    "# new arrays for reshape and transpose\n",
    "d5 = np.random.randint(5, size=(2,3,3))\n",
    "d5"
   ]
  },
  {
   "cell_type": "code",
   "execution_count": 104,
   "id": "c1086d8f",
   "metadata": {},
   "outputs": [
    {
     "data": {
      "text/plain": [
       "array([[4, 4, 4],\n",
       "       [0, 2, 4]])"
      ]
     },
     "execution_count": 104,
     "metadata": {},
     "output_type": "execute_result"
    }
   ],
   "source": [
    "d6 = np.random.randint(5, size=(2,3))\n",
    "d6"
   ]
  },
  {
   "cell_type": "code",
   "execution_count": 105,
   "id": "9228e5af",
   "metadata": {},
   "outputs": [
    {
     "data": {
      "text/plain": [
       "((2, 3, 3), (2, 3))"
      ]
     },
     "execution_count": 105,
     "metadata": {},
     "output_type": "execute_result"
    }
   ],
   "source": [
    "d5.shape, d6.shape"
   ]
  },
  {
   "cell_type": "code",
   "execution_count": 106,
   "id": "7933205d",
   "metadata": {},
   "outputs": [
    {
     "data": {
      "text/plain": [
       "(2, 3, 1)"
      ]
     },
     "execution_count": 106,
     "metadata": {},
     "output_type": "execute_result"
    }
   ],
   "source": [
    "d6_reshaped = d6.reshape(2,3,1)\n",
    "d6_reshaped.shape"
   ]
  },
  {
   "cell_type": "code",
   "execution_count": 107,
   "id": "97fa3370",
   "metadata": {},
   "outputs": [
    {
     "data": {
      "text/plain": [
       "array([[[ 0, 12, 12],\n",
       "        [ 8, 16,  4],\n",
       "        [ 0,  4, 12]],\n",
       "\n",
       "       [[ 0,  0,  0],\n",
       "        [ 4,  2,  2],\n",
       "        [ 8,  8, 16]]])"
      ]
     },
     "execution_count": 107,
     "metadata": {},
     "output_type": "execute_result"
    }
   ],
   "source": [
    "d5*d6_reshaped"
   ]
  },
  {
   "cell_type": "code",
   "execution_count": 108,
   "id": "fbd3c2d6",
   "metadata": {},
   "outputs": [
    {
     "data": {
      "text/plain": [
       "(2, 3, 3)"
      ]
     },
     "execution_count": 108,
     "metadata": {},
     "output_type": "execute_result"
    }
   ],
   "source": [
    "d5.shape"
   ]
  },
  {
   "cell_type": "code",
   "execution_count": 109,
   "id": "37434df0",
   "metadata": {},
   "outputs": [
    {
     "data": {
      "text/plain": [
       "array([[[0, 3, 3],\n",
       "        [2, 4, 1],\n",
       "        [0, 1, 3]],\n",
       "\n",
       "       [[3, 4, 1],\n",
       "        [2, 1, 1],\n",
       "        [2, 2, 4]]])"
      ]
     },
     "execution_count": 109,
     "metadata": {},
     "output_type": "execute_result"
    }
   ],
   "source": [
    "d5"
   ]
  },
  {
   "cell_type": "code",
   "execution_count": 110,
   "id": "4ac866ef",
   "metadata": {},
   "outputs": [
    {
     "data": {
      "text/plain": [
       "array([[[0, 3],\n",
       "        [2, 2],\n",
       "        [0, 2]],\n",
       "\n",
       "       [[3, 4],\n",
       "        [4, 1],\n",
       "        [1, 2]],\n",
       "\n",
       "       [[3, 1],\n",
       "        [1, 1],\n",
       "        [3, 4]]])"
      ]
     },
     "execution_count": 110,
     "metadata": {},
     "output_type": "execute_result"
    }
   ],
   "source": [
    "#transpose switches the order of an array's shape\n",
    "d5.T"
   ]
  },
  {
   "cell_type": "code",
   "execution_count": 111,
   "id": "2da42aea",
   "metadata": {},
   "outputs": [
    {
     "data": {
      "text/plain": [
       "array([[[[5, 1, 1],\n",
       "         [0, 3, 5],\n",
       "         [6, 6, 3],\n",
       "         [0, 2, 3]],\n",
       "\n",
       "        [[5, 4, 0],\n",
       "         [6, 5, 0],\n",
       "         [2, 2, 4],\n",
       "         [5, 1, 6]],\n",
       "\n",
       "        [[6, 5, 4],\n",
       "         [3, 1, 5],\n",
       "         [3, 0, 3],\n",
       "         [0, 5, 2]],\n",
       "\n",
       "        [[5, 5, 1],\n",
       "         [6, 0, 3],\n",
       "         [6, 2, 1],\n",
       "         [0, 0, 6]],\n",
       "\n",
       "        [[6, 6, 3],\n",
       "         [1, 6, 6],\n",
       "         [3, 4, 5],\n",
       "         [2, 1, 4]],\n",
       "\n",
       "        [[4, 2, 1],\n",
       "         [3, 6, 4],\n",
       "         [2, 5, 4],\n",
       "         [5, 2, 1]]],\n",
       "\n",
       "\n",
       "       [[[4, 5, 6],\n",
       "         [4, 4, 1],\n",
       "         [1, 4, 5],\n",
       "         [2, 1, 3]],\n",
       "\n",
       "        [[1, 6, 6],\n",
       "         [4, 2, 3],\n",
       "         [0, 0, 1],\n",
       "         [1, 4, 3]],\n",
       "\n",
       "        [[6, 3, 5],\n",
       "         [4, 1, 2],\n",
       "         [3, 1, 0],\n",
       "         [4, 3, 6]],\n",
       "\n",
       "        [[5, 2, 3],\n",
       "         [6, 5, 3],\n",
       "         [3, 5, 6],\n",
       "         [1, 0, 3]],\n",
       "\n",
       "        [[1, 2, 1],\n",
       "         [2, 1, 2],\n",
       "         [4, 2, 0],\n",
       "         [5, 1, 1]],\n",
       "\n",
       "        [[3, 4, 4],\n",
       "         [3, 4, 1],\n",
       "         [1, 4, 4],\n",
       "         [2, 3, 2]]],\n",
       "\n",
       "\n",
       "       [[[1, 6, 2],\n",
       "         [4, 0, 4],\n",
       "         [4, 3, 5],\n",
       "         [1, 4, 1]],\n",
       "\n",
       "        [[5, 0, 2],\n",
       "         [3, 4, 0],\n",
       "         [6, 4, 5],\n",
       "         [3, 5, 3]],\n",
       "\n",
       "        [[5, 4, 0],\n",
       "         [5, 6, 6],\n",
       "         [3, 4, 5],\n",
       "         [0, 5, 2]],\n",
       "\n",
       "        [[3, 5, 5],\n",
       "         [2, 4, 0],\n",
       "         [2, 1, 2],\n",
       "         [6, 2, 2]],\n",
       "\n",
       "        [[5, 4, 0],\n",
       "         [6, 4, 3],\n",
       "         [3, 6, 2],\n",
       "         [6, 0, 2]],\n",
       "\n",
       "        [[3, 6, 6],\n",
       "         [0, 1, 6],\n",
       "         [5, 2, 6],\n",
       "         [0, 3, 0]]],\n",
       "\n",
       "\n",
       "       [[[3, 3, 4],\n",
       "         [2, 2, 2],\n",
       "         [1, 3, 6],\n",
       "         [5, 2, 5]],\n",
       "\n",
       "        [[5, 4, 6],\n",
       "         [0, 3, 6],\n",
       "         [4, 0, 5],\n",
       "         [5, 3, 2]],\n",
       "\n",
       "        [[0, 0, 3],\n",
       "         [3, 0, 1],\n",
       "         [6, 6, 6],\n",
       "         [6, 4, 3]],\n",
       "\n",
       "        [[2, 2, 3],\n",
       "         [6, 0, 5],\n",
       "         [0, 5, 6],\n",
       "         [5, 4, 5]],\n",
       "\n",
       "        [[5, 2, 3],\n",
       "         [1, 5, 3],\n",
       "         [0, 5, 1],\n",
       "         [2, 1, 0]],\n",
       "\n",
       "        [[6, 3, 1],\n",
       "         [1, 2, 2],\n",
       "         [2, 3, 6],\n",
       "         [4, 6, 5]]],\n",
       "\n",
       "\n",
       "       [[[2, 3, 1],\n",
       "         [0, 0, 5],\n",
       "         [4, 3, 5],\n",
       "         [6, 0, 0]],\n",
       "\n",
       "        [[2, 6, 4],\n",
       "         [1, 2, 2],\n",
       "         [5, 6, 3],\n",
       "         [5, 2, 5]],\n",
       "\n",
       "        [[1, 2, 2],\n",
       "         [2, 1, 6],\n",
       "         [4, 6, 4],\n",
       "         [0, 2, 2]],\n",
       "\n",
       "        [[1, 3, 2],\n",
       "         [1, 1, 1],\n",
       "         [0, 3, 0],\n",
       "         [5, 3, 5]],\n",
       "\n",
       "        [[6, 1, 5],\n",
       "         [2, 5, 2],\n",
       "         [1, 5, 6],\n",
       "         [4, 1, 1]],\n",
       "\n",
       "        [[4, 1, 5],\n",
       "         [0, 3, 1],\n",
       "         [6, 1, 2],\n",
       "         [3, 2, 3]]],\n",
       "\n",
       "\n",
       "       [[[3, 0, 4],\n",
       "         [5, 0, 3],\n",
       "         [0, 4, 4],\n",
       "         [4, 5, 5]],\n",
       "\n",
       "        [[3, 1, 1],\n",
       "         [4, 4, 6],\n",
       "         [2, 3, 3],\n",
       "         [4, 6, 0]],\n",
       "\n",
       "        [[3, 3, 0],\n",
       "         [2, 4, 6],\n",
       "         [0, 2, 1],\n",
       "         [1, 4, 6]],\n",
       "\n",
       "        [[2, 6, 5],\n",
       "         [6, 6, 2],\n",
       "         [5, 5, 3],\n",
       "         [4, 4, 4]],\n",
       "\n",
       "        [[1, 2, 6],\n",
       "         [6, 1, 1],\n",
       "         [0, 1, 1],\n",
       "         [2, 5, 1]],\n",
       "\n",
       "        [[5, 1, 1],\n",
       "         [0, 6, 6],\n",
       "         [6, 6, 5],\n",
       "         [2, 2, 4]]],\n",
       "\n",
       "\n",
       "       [[[4, 4, 3],\n",
       "         [2, 1, 3],\n",
       "         [2, 2, 4],\n",
       "         [4, 3, 5]],\n",
       "\n",
       "        [[2, 0, 5],\n",
       "         [6, 5, 4],\n",
       "         [3, 1, 5],\n",
       "         [0, 1, 3]],\n",
       "\n",
       "        [[4, 2, 1],\n",
       "         [6, 0, 1],\n",
       "         [1, 4, 5],\n",
       "         [0, 5, 1]],\n",
       "\n",
       "        [[2, 1, 5],\n",
       "         [0, 0, 2],\n",
       "         [4, 4, 1],\n",
       "         [2, 3, 4]],\n",
       "\n",
       "        [[3, 4, 0],\n",
       "         [2, 1, 0],\n",
       "         [3, 2, 3],\n",
       "         [6, 6, 3]],\n",
       "\n",
       "        [[5, 1, 4],\n",
       "         [6, 3, 2],\n",
       "         [3, 4, 4],\n",
       "         [4, 4, 2]]]])"
      ]
     },
     "execution_count": 111,
     "metadata": {},
     "output_type": "execute_result"
    }
   ],
   "source": [
    "d4.T"
   ]
  },
  {
   "cell_type": "code",
   "execution_count": 112,
   "id": "ecd7ac06",
   "metadata": {},
   "outputs": [
    {
     "data": {
      "text/plain": [
       "array([[[ 0, 12, 12],\n",
       "        [ 8, 16,  4],\n",
       "        [ 0,  4, 12]],\n",
       "\n",
       "       [[ 0,  0,  0],\n",
       "        [ 4,  2,  2],\n",
       "        [ 8,  8, 16]]])"
      ]
     },
     "execution_count": 112,
     "metadata": {},
     "output_type": "execute_result"
    }
   ],
   "source": [
    "# element wise multiplication\n",
    "d5 * d6_reshaped"
   ]
  },
  {
   "cell_type": "code",
   "execution_count": 113,
   "id": "652a82d9",
   "metadata": {},
   "outputs": [
    {
     "data": {
      "text/plain": [
       "(2, 3, 3)"
      ]
     },
     "execution_count": 113,
     "metadata": {},
     "output_type": "execute_result"
    }
   ],
   "source": [
    "d5\n",
    "d5.shape"
   ]
  },
  {
   "cell_type": "code",
   "execution_count": 114,
   "id": "735c2a4c",
   "metadata": {},
   "outputs": [
    {
     "data": {
      "text/plain": [
       "(2, 3)"
      ]
     },
     "execution_count": 114,
     "metadata": {},
     "output_type": "execute_result"
    }
   ],
   "source": [
    "d6.shape"
   ]
  },
  {
   "cell_type": "code",
   "execution_count": 115,
   "id": "cc57c1a9",
   "metadata": {},
   "outputs": [
    {
     "data": {
      "text/plain": [
       "((2, 3, 3), (2, 3, 1))"
      ]
     },
     "execution_count": 115,
     "metadata": {},
     "output_type": "execute_result"
    }
   ],
   "source": [
    "# dot product\n",
    "#this multiplies the first array's columns with the other array's rows\n",
    "d5.shape, d6_reshaped.shape"
   ]
  },
  {
   "cell_type": "code",
   "execution_count": 116,
   "id": "3542f618",
   "metadata": {},
   "outputs": [
    {
     "data": {
      "text/plain": [
       "array([[1, 6, 3],\n",
       "       [3, 1, 3]])"
      ]
     },
     "execution_count": 116,
     "metadata": {},
     "output_type": "execute_result"
    }
   ],
   "source": [
    "d7 = np.random.randint(7, size=(2,3))\n",
    "d7"
   ]
  },
  {
   "cell_type": "code",
   "execution_count": 117,
   "id": "dcd49347",
   "metadata": {},
   "outputs": [],
   "source": [
    "d7_transposed = d7.T\n",
    "d8_dot = np.dot(d6,d7_transposed)"
   ]
  },
  {
   "cell_type": "code",
   "execution_count": 118,
   "id": "3bf99517",
   "metadata": {},
   "outputs": [
    {
     "data": {
      "text/plain": [
       "array([[4, 4, 4],\n",
       "       [0, 2, 4]])"
      ]
     },
     "execution_count": 118,
     "metadata": {},
     "output_type": "execute_result"
    }
   ],
   "source": [
    "d6"
   ]
  },
  {
   "cell_type": "code",
   "execution_count": 119,
   "id": "232e07af",
   "metadata": {},
   "outputs": [
    {
     "data": {
      "text/plain": [
       "array([[1, 6, 3],\n",
       "       [3, 1, 3]])"
      ]
     },
     "execution_count": 119,
     "metadata": {},
     "output_type": "execute_result"
    }
   ],
   "source": [
    "d7"
   ]
  },
  {
   "cell_type": "code",
   "execution_count": 120,
   "id": "84dce259",
   "metadata": {},
   "outputs": [
    {
     "data": {
      "text/plain": [
       "array([[1, 3],\n",
       "       [6, 1],\n",
       "       [3, 3]])"
      ]
     },
     "execution_count": 120,
     "metadata": {},
     "output_type": "execute_result"
    }
   ],
   "source": [
    "d7_transposed"
   ]
  },
  {
   "cell_type": "code",
   "execution_count": 121,
   "id": "9087b85a",
   "metadata": {},
   "outputs": [
    {
     "data": {
      "text/plain": [
       "array([[40, 28],\n",
       "       [24, 14]])"
      ]
     },
     "execution_count": 121,
     "metadata": {},
     "output_type": "execute_result"
    }
   ],
   "source": [
    "d8_dot"
   ]
  },
  {
   "cell_type": "code",
   "execution_count": 122,
   "id": "3189b096",
   "metadata": {},
   "outputs": [
    {
     "data": {
      "text/plain": [
       "(2, 2)"
      ]
     },
     "execution_count": 122,
     "metadata": {},
     "output_type": "execute_result"
    }
   ],
   "source": [
    "d8_dot.shape"
   ]
  },
  {
   "cell_type": "markdown",
   "id": "974b333c",
   "metadata": {},
   "source": [
    "## Dot Product Example: nut butter sales"
   ]
  },
  {
   "cell_type": "code",
   "execution_count": 123,
   "id": "cd8e33e8",
   "metadata": {},
   "outputs": [
    {
     "data": {
      "text/plain": [
       "array([[12, 15,  0],\n",
       "       [ 3,  3,  7],\n",
       "       [ 9, 19, 18],\n",
       "       [ 4,  6, 12],\n",
       "       [ 1,  6,  7]])"
      ]
     },
     "execution_count": 123,
     "metadata": {},
     "output_type": "execute_result"
    }
   ],
   "source": [
    "np.random.seed(0)\n",
    "\n",
    "#number of jars sold below\n",
    "jars_sold = np.random.randint(20, size=(5,3))\n",
    "jars_sold"
   ]
  },
  {
   "cell_type": "code",
   "execution_count": 124,
   "id": "e0fe88dd",
   "metadata": {},
   "outputs": [
    {
     "data": {
      "text/html": [
       "<div>\n",
       "<style scoped>\n",
       "    .dataframe tbody tr th:only-of-type {\n",
       "        vertical-align: middle;\n",
       "    }\n",
       "\n",
       "    .dataframe tbody tr th {\n",
       "        vertical-align: top;\n",
       "    }\n",
       "\n",
       "    .dataframe thead th {\n",
       "        text-align: right;\n",
       "    }\n",
       "</style>\n",
       "<table border=\"1\" class=\"dataframe\">\n",
       "  <thead>\n",
       "    <tr style=\"text-align: right;\">\n",
       "      <th></th>\n",
       "      <th>Almond Butter</th>\n",
       "      <th>Peanut Butter</th>\n",
       "      <th>Cashew Butter</th>\n",
       "    </tr>\n",
       "  </thead>\n",
       "  <tbody>\n",
       "    <tr>\n",
       "      <th>Mon</th>\n",
       "      <td>12</td>\n",
       "      <td>15</td>\n",
       "      <td>0</td>\n",
       "    </tr>\n",
       "    <tr>\n",
       "      <th>Tue</th>\n",
       "      <td>3</td>\n",
       "      <td>3</td>\n",
       "      <td>7</td>\n",
       "    </tr>\n",
       "    <tr>\n",
       "      <th>Wed</th>\n",
       "      <td>9</td>\n",
       "      <td>19</td>\n",
       "      <td>18</td>\n",
       "    </tr>\n",
       "    <tr>\n",
       "      <th>Thu</th>\n",
       "      <td>4</td>\n",
       "      <td>6</td>\n",
       "      <td>12</td>\n",
       "    </tr>\n",
       "    <tr>\n",
       "      <th>Fri</th>\n",
       "      <td>1</td>\n",
       "      <td>6</td>\n",
       "      <td>7</td>\n",
       "    </tr>\n",
       "  </tbody>\n",
       "</table>\n",
       "</div>"
      ],
      "text/plain": [
       "     Almond Butter  Peanut Butter  Cashew Butter\n",
       "Mon             12             15              0\n",
       "Tue              3              3              7\n",
       "Wed              9             19             18\n",
       "Thu              4              6             12\n",
       "Fri              1              6              7"
      ]
     },
     "execution_count": 124,
     "metadata": {},
     "output_type": "execute_result"
    }
   ],
   "source": [
    "#create weekly sales dataframe\n",
    "weekly_sales = pd.DataFrame(jars_sold,\n",
    "                           index = ['Mon', 'Tue', 'Wed', 'Thu', 'Fri'],\n",
    "                           columns=['Almond Butter', 'Peanut Butter', 'Cashew Butter'])\n",
    "weekly_sales"
   ]
  },
  {
   "cell_type": "code",
   "execution_count": 125,
   "id": "e8b33f71",
   "metadata": {},
   "outputs": [
    {
     "data": {
      "text/plain": [
       "array([10,  8, 12])"
      ]
     },
     "execution_count": 125,
     "metadata": {},
     "output_type": "execute_result"
    }
   ],
   "source": [
    "# create an array for prices\n",
    "prices = np.array([10,8,12])\n",
    "prices"
   ]
  },
  {
   "cell_type": "code",
   "execution_count": 126,
   "id": "9761501a",
   "metadata": {},
   "outputs": [
    {
     "data": {
      "text/html": [
       "<div>\n",
       "<style scoped>\n",
       "    .dataframe tbody tr th:only-of-type {\n",
       "        vertical-align: middle;\n",
       "    }\n",
       "\n",
       "    .dataframe tbody tr th {\n",
       "        vertical-align: top;\n",
       "    }\n",
       "\n",
       "    .dataframe thead th {\n",
       "        text-align: right;\n",
       "    }\n",
       "</style>\n",
       "<table border=\"1\" class=\"dataframe\">\n",
       "  <thead>\n",
       "    <tr style=\"text-align: right;\">\n",
       "      <th></th>\n",
       "      <th>Almond Butter</th>\n",
       "      <th>Peanut Butter</th>\n",
       "      <th>Cashew Butter</th>\n",
       "    </tr>\n",
       "  </thead>\n",
       "  <tbody>\n",
       "    <tr>\n",
       "      <th>Price</th>\n",
       "      <td>10</td>\n",
       "      <td>8</td>\n",
       "      <td>12</td>\n",
       "    </tr>\n",
       "  </tbody>\n",
       "</table>\n",
       "</div>"
      ],
      "text/plain": [
       "       Almond Butter  Peanut Butter  Cashew Butter\n",
       "Price             10              8             12"
      ]
     },
     "execution_count": 126,
     "metadata": {},
     "output_type": "execute_result"
    }
   ],
   "source": [
    "# create butter prices dataframe\n",
    "butter_prices = pd.DataFrame(prices.reshape(1,3), index=['Price'],\n",
    "                            columns=['Almond Butter', 'Peanut Butter', 'Cashew Butter'])\n",
    "butter_prices"
   ]
  },
  {
   "cell_type": "code",
   "execution_count": 127,
   "id": "15fc05a3",
   "metadata": {},
   "outputs": [
    {
     "data": {
      "text/plain": [
       "array([240, 138, 458, 232, 142])"
      ]
     },
     "execution_count": 127,
     "metadata": {},
     "output_type": "execute_result"
    }
   ],
   "source": [
    "#create a total_sales variable which will be inserted in the first table. also ensure that the arrays are aligned\n",
    "total_sales = prices.dot(jars_sold.T)\n",
    "total_sales"
   ]
  },
  {
   "cell_type": "code",
   "execution_count": 128,
   "id": "facf43d2",
   "metadata": {},
   "outputs": [
    {
     "data": {
      "text/html": [
       "<div>\n",
       "<style scoped>\n",
       "    .dataframe tbody tr th:only-of-type {\n",
       "        vertical-align: middle;\n",
       "    }\n",
       "\n",
       "    .dataframe tbody tr th {\n",
       "        vertical-align: top;\n",
       "    }\n",
       "\n",
       "    .dataframe thead th {\n",
       "        text-align: right;\n",
       "    }\n",
       "</style>\n",
       "<table border=\"1\" class=\"dataframe\">\n",
       "  <thead>\n",
       "    <tr style=\"text-align: right;\">\n",
       "      <th></th>\n",
       "      <th>Almond Butter</th>\n",
       "      <th>Peanut Butter</th>\n",
       "      <th>Cashew Butter</th>\n",
       "    </tr>\n",
       "  </thead>\n",
       "  <tbody>\n",
       "    <tr>\n",
       "      <th>Mon</th>\n",
       "      <td>12</td>\n",
       "      <td>15</td>\n",
       "      <td>0</td>\n",
       "    </tr>\n",
       "    <tr>\n",
       "      <th>Tue</th>\n",
       "      <td>3</td>\n",
       "      <td>3</td>\n",
       "      <td>7</td>\n",
       "    </tr>\n",
       "    <tr>\n",
       "      <th>Wed</th>\n",
       "      <td>9</td>\n",
       "      <td>19</td>\n",
       "      <td>18</td>\n",
       "    </tr>\n",
       "    <tr>\n",
       "      <th>Thu</th>\n",
       "      <td>4</td>\n",
       "      <td>6</td>\n",
       "      <td>12</td>\n",
       "    </tr>\n",
       "    <tr>\n",
       "      <th>Fri</th>\n",
       "      <td>1</td>\n",
       "      <td>6</td>\n",
       "      <td>7</td>\n",
       "    </tr>\n",
       "  </tbody>\n",
       "</table>\n",
       "</div>"
      ],
      "text/plain": [
       "     Almond Butter  Peanut Butter  Cashew Butter\n",
       "Mon             12             15              0\n",
       "Tue              3              3              7\n",
       "Wed              9             19             18\n",
       "Thu              4              6             12\n",
       "Fri              1              6              7"
      ]
     },
     "execution_count": 128,
     "metadata": {},
     "output_type": "execute_result"
    }
   ],
   "source": [
    "#create dialy_sales\n",
    "weekly_sales"
   ]
  },
  {
   "cell_type": "code",
   "execution_count": 129,
   "id": "f083b314",
   "metadata": {},
   "outputs": [
    {
     "data": {
      "text/html": [
       "<div>\n",
       "<style scoped>\n",
       "    .dataframe tbody tr th:only-of-type {\n",
       "        vertical-align: middle;\n",
       "    }\n",
       "\n",
       "    .dataframe tbody tr th {\n",
       "        vertical-align: top;\n",
       "    }\n",
       "\n",
       "    .dataframe thead th {\n",
       "        text-align: right;\n",
       "    }\n",
       "</style>\n",
       "<table border=\"1\" class=\"dataframe\">\n",
       "  <thead>\n",
       "    <tr style=\"text-align: right;\">\n",
       "      <th></th>\n",
       "      <th>Almond Butter</th>\n",
       "      <th>Peanut Butter</th>\n",
       "      <th>Cashew Butter</th>\n",
       "    </tr>\n",
       "  </thead>\n",
       "  <tbody>\n",
       "    <tr>\n",
       "      <th>Price</th>\n",
       "      <td>10</td>\n",
       "      <td>8</td>\n",
       "      <td>12</td>\n",
       "    </tr>\n",
       "  </tbody>\n",
       "</table>\n",
       "</div>"
      ],
      "text/plain": [
       "       Almond Butter  Peanut Butter  Cashew Butter\n",
       "Price             10              8             12"
      ]
     },
     "execution_count": 129,
     "metadata": {},
     "output_type": "execute_result"
    }
   ],
   "source": [
    "butter_prices"
   ]
  },
  {
   "cell_type": "code",
   "execution_count": 130,
   "id": "3ebf0f57",
   "metadata": {},
   "outputs": [
    {
     "data": {
      "text/plain": [
       "((1, 3), (5, 3))"
      ]
     },
     "execution_count": 130,
     "metadata": {},
     "output_type": "execute_result"
    }
   ],
   "source": [
    "butter_prices.shape, weekly_sales.shape"
   ]
  },
  {
   "cell_type": "code",
   "execution_count": 131,
   "id": "b3cf8ce0",
   "metadata": {},
   "outputs": [],
   "source": [
    "daily_sales = butter_prices.dot(weekly_sales.T)"
   ]
  },
  {
   "cell_type": "code",
   "execution_count": 132,
   "id": "30538c19",
   "metadata": {},
   "outputs": [
    {
     "data": {
      "text/html": [
       "<div>\n",
       "<style scoped>\n",
       "    .dataframe tbody tr th:only-of-type {\n",
       "        vertical-align: middle;\n",
       "    }\n",
       "\n",
       "    .dataframe tbody tr th {\n",
       "        vertical-align: top;\n",
       "    }\n",
       "\n",
       "    .dataframe thead th {\n",
       "        text-align: right;\n",
       "    }\n",
       "</style>\n",
       "<table border=\"1\" class=\"dataframe\">\n",
       "  <thead>\n",
       "    <tr style=\"text-align: right;\">\n",
       "      <th></th>\n",
       "      <th>Mon</th>\n",
       "      <th>Tue</th>\n",
       "      <th>Wed</th>\n",
       "      <th>Thu</th>\n",
       "      <th>Fri</th>\n",
       "    </tr>\n",
       "  </thead>\n",
       "  <tbody>\n",
       "    <tr>\n",
       "      <th>Price</th>\n",
       "      <td>240</td>\n",
       "      <td>138</td>\n",
       "      <td>458</td>\n",
       "      <td>232</td>\n",
       "      <td>142</td>\n",
       "    </tr>\n",
       "  </tbody>\n",
       "</table>\n",
       "</div>"
      ],
      "text/plain": [
       "       Mon  Tue  Wed  Thu  Fri\n",
       "Price  240  138  458  232  142"
      ]
     },
     "execution_count": 132,
     "metadata": {},
     "output_type": "execute_result"
    }
   ],
   "source": [
    "daily_sales"
   ]
  },
  {
   "cell_type": "code",
   "execution_count": 133,
   "id": "aaf9aa41",
   "metadata": {},
   "outputs": [
    {
     "data": {
      "text/html": [
       "<div>\n",
       "<style scoped>\n",
       "    .dataframe tbody tr th:only-of-type {\n",
       "        vertical-align: middle;\n",
       "    }\n",
       "\n",
       "    .dataframe tbody tr th {\n",
       "        vertical-align: top;\n",
       "    }\n",
       "\n",
       "    .dataframe thead th {\n",
       "        text-align: right;\n",
       "    }\n",
       "</style>\n",
       "<table border=\"1\" class=\"dataframe\">\n",
       "  <thead>\n",
       "    <tr style=\"text-align: right;\">\n",
       "      <th></th>\n",
       "      <th>Almond Butter</th>\n",
       "      <th>Peanut Butter</th>\n",
       "      <th>Cashew Butter</th>\n",
       "    </tr>\n",
       "  </thead>\n",
       "  <tbody>\n",
       "    <tr>\n",
       "      <th>Mon</th>\n",
       "      <td>12</td>\n",
       "      <td>15</td>\n",
       "      <td>0</td>\n",
       "    </tr>\n",
       "    <tr>\n",
       "      <th>Tue</th>\n",
       "      <td>3</td>\n",
       "      <td>3</td>\n",
       "      <td>7</td>\n",
       "    </tr>\n",
       "    <tr>\n",
       "      <th>Wed</th>\n",
       "      <td>9</td>\n",
       "      <td>19</td>\n",
       "      <td>18</td>\n",
       "    </tr>\n",
       "    <tr>\n",
       "      <th>Thu</th>\n",
       "      <td>4</td>\n",
       "      <td>6</td>\n",
       "      <td>12</td>\n",
       "    </tr>\n",
       "    <tr>\n",
       "      <th>Fri</th>\n",
       "      <td>1</td>\n",
       "      <td>6</td>\n",
       "      <td>7</td>\n",
       "    </tr>\n",
       "  </tbody>\n",
       "</table>\n",
       "</div>"
      ],
      "text/plain": [
       "     Almond Butter  Peanut Butter  Cashew Butter\n",
       "Mon             12             15              0\n",
       "Tue              3              3              7\n",
       "Wed              9             19             18\n",
       "Thu              4              6             12\n",
       "Fri              1              6              7"
      ]
     },
     "execution_count": 133,
     "metadata": {},
     "output_type": "execute_result"
    }
   ],
   "source": [
    "weekly_sales"
   ]
  },
  {
   "cell_type": "code",
   "execution_count": 134,
   "id": "739f9db4",
   "metadata": {},
   "outputs": [
    {
     "data": {
      "text/html": [
       "<div>\n",
       "<style scoped>\n",
       "    .dataframe tbody tr th:only-of-type {\n",
       "        vertical-align: middle;\n",
       "    }\n",
       "\n",
       "    .dataframe tbody tr th {\n",
       "        vertical-align: top;\n",
       "    }\n",
       "\n",
       "    .dataframe thead th {\n",
       "        text-align: right;\n",
       "    }\n",
       "</style>\n",
       "<table border=\"1\" class=\"dataframe\">\n",
       "  <thead>\n",
       "    <tr style=\"text-align: right;\">\n",
       "      <th></th>\n",
       "      <th>Mon</th>\n",
       "      <th>Tue</th>\n",
       "      <th>Wed</th>\n",
       "      <th>Thu</th>\n",
       "      <th>Fri</th>\n",
       "    </tr>\n",
       "  </thead>\n",
       "  <tbody>\n",
       "    <tr>\n",
       "      <th>Price</th>\n",
       "      <td>240</td>\n",
       "      <td>138</td>\n",
       "      <td>458</td>\n",
       "      <td>232</td>\n",
       "      <td>142</td>\n",
       "    </tr>\n",
       "  </tbody>\n",
       "</table>\n",
       "</div>"
      ],
      "text/plain": [
       "       Mon  Tue  Wed  Thu  Fri\n",
       "Price  240  138  458  232  142"
      ]
     },
     "execution_count": 134,
     "metadata": {},
     "output_type": "execute_result"
    }
   ],
   "source": [
    "daily_sales"
   ]
  },
  {
   "cell_type": "code",
   "execution_count": 135,
   "id": "a6aa00c7",
   "metadata": {},
   "outputs": [
    {
     "data": {
      "text/html": [
       "<div>\n",
       "<style scoped>\n",
       "    .dataframe tbody tr th:only-of-type {\n",
       "        vertical-align: middle;\n",
       "    }\n",
       "\n",
       "    .dataframe tbody tr th {\n",
       "        vertical-align: top;\n",
       "    }\n",
       "\n",
       "    .dataframe thead th {\n",
       "        text-align: right;\n",
       "    }\n",
       "</style>\n",
       "<table border=\"1\" class=\"dataframe\">\n",
       "  <thead>\n",
       "    <tr style=\"text-align: right;\">\n",
       "      <th></th>\n",
       "      <th>Almond Butter</th>\n",
       "      <th>Peanut Butter</th>\n",
       "      <th>Cashew Butter</th>\n",
       "      <th>Total ($)</th>\n",
       "    </tr>\n",
       "  </thead>\n",
       "  <tbody>\n",
       "    <tr>\n",
       "      <th>Mon</th>\n",
       "      <td>12</td>\n",
       "      <td>15</td>\n",
       "      <td>0</td>\n",
       "      <td>240</td>\n",
       "    </tr>\n",
       "    <tr>\n",
       "      <th>Tue</th>\n",
       "      <td>3</td>\n",
       "      <td>3</td>\n",
       "      <td>7</td>\n",
       "      <td>138</td>\n",
       "    </tr>\n",
       "    <tr>\n",
       "      <th>Wed</th>\n",
       "      <td>9</td>\n",
       "      <td>19</td>\n",
       "      <td>18</td>\n",
       "      <td>458</td>\n",
       "    </tr>\n",
       "    <tr>\n",
       "      <th>Thu</th>\n",
       "      <td>4</td>\n",
       "      <td>6</td>\n",
       "      <td>12</td>\n",
       "      <td>232</td>\n",
       "    </tr>\n",
       "    <tr>\n",
       "      <th>Fri</th>\n",
       "      <td>1</td>\n",
       "      <td>6</td>\n",
       "      <td>7</td>\n",
       "      <td>142</td>\n",
       "    </tr>\n",
       "  </tbody>\n",
       "</table>\n",
       "</div>"
      ],
      "text/plain": [
       "     Almond Butter  Peanut Butter  Cashew Butter  Total ($)\n",
       "Mon             12             15              0        240\n",
       "Tue              3              3              7        138\n",
       "Wed              9             19             18        458\n",
       "Thu              4              6             12        232\n",
       "Fri              1              6              7        142"
      ]
     },
     "execution_count": 135,
     "metadata": {},
     "output_type": "execute_result"
    }
   ],
   "source": [
    "#create and append a total column to weekly sales that will hold the dollar values of daily_sales\n",
    "weekly_sales['Total ($)'] = daily_sales.T #T to ensure it aligns with weekly_sale's shape\n",
    "weekly_sales"
   ]
  },
  {
   "cell_type": "code",
   "execution_count": 136,
   "id": "8250b2cc",
   "metadata": {},
   "outputs": [
    {
     "data": {
      "text/plain": [
       "array([240, 138, 458, 232, 142])"
      ]
     },
     "execution_count": 136,
     "metadata": {},
     "output_type": "execute_result"
    }
   ],
   "source": [
    "total_sales"
   ]
  },
  {
   "cell_type": "code",
   "execution_count": 137,
   "id": "88d5c5ed",
   "metadata": {},
   "outputs": [
    {
     "data": {
      "text/html": [
       "<div>\n",
       "<style scoped>\n",
       "    .dataframe tbody tr th:only-of-type {\n",
       "        vertical-align: middle;\n",
       "    }\n",
       "\n",
       "    .dataframe tbody tr th {\n",
       "        vertical-align: top;\n",
       "    }\n",
       "\n",
       "    .dataframe thead th {\n",
       "        text-align: right;\n",
       "    }\n",
       "</style>\n",
       "<table border=\"1\" class=\"dataframe\">\n",
       "  <thead>\n",
       "    <tr style=\"text-align: right;\">\n",
       "      <th></th>\n",
       "      <th>Mon</th>\n",
       "      <th>Tue</th>\n",
       "      <th>Wed</th>\n",
       "      <th>Thu</th>\n",
       "      <th>Fri</th>\n",
       "    </tr>\n",
       "  </thead>\n",
       "  <tbody>\n",
       "    <tr>\n",
       "      <th>Price</th>\n",
       "      <td>240</td>\n",
       "      <td>138</td>\n",
       "      <td>458</td>\n",
       "      <td>232</td>\n",
       "      <td>142</td>\n",
       "    </tr>\n",
       "  </tbody>\n",
       "</table>\n",
       "</div>"
      ],
      "text/plain": [
       "       Mon  Tue  Wed  Thu  Fri\n",
       "Price  240  138  458  232  142"
      ]
     },
     "execution_count": 137,
     "metadata": {},
     "output_type": "execute_result"
    }
   ],
   "source": [
    "daily_sales"
   ]
  },
  {
   "cell_type": "code",
   "execution_count": 138,
   "id": "97561f4a",
   "metadata": {},
   "outputs": [],
   "source": [
    "#now that wraps the example up"
   ]
  },
  {
   "cell_type": "code",
   "execution_count": null,
   "id": "30abd120",
   "metadata": {},
   "outputs": [],
   "source": []
  },
  {
   "cell_type": "markdown",
   "id": "882c4227",
   "metadata": {},
   "source": [
    "## comparison operators"
   ]
  },
  {
   "cell_type": "code",
   "execution_count": 139,
   "id": "a8c94c27",
   "metadata": {},
   "outputs": [
    {
     "data": {
      "text/plain": [
       "array([[4, 4, 4],\n",
       "       [0, 2, 4]])"
      ]
     },
     "execution_count": 139,
     "metadata": {},
     "output_type": "execute_result"
    }
   ],
   "source": [
    "d6"
   ]
  },
  {
   "cell_type": "code",
   "execution_count": 140,
   "id": "1991a0ff",
   "metadata": {},
   "outputs": [
    {
     "data": {
      "text/plain": [
       "array([[1, 6, 3],\n",
       "       [3, 1, 3]])"
      ]
     },
     "execution_count": 140,
     "metadata": {},
     "output_type": "execute_result"
    }
   ],
   "source": [
    "d7"
   ]
  },
  {
   "cell_type": "code",
   "execution_count": 141,
   "id": "887bb3da",
   "metadata": {},
   "outputs": [
    {
     "data": {
      "text/plain": [
       "array([[ True, False,  True],\n",
       "       [False,  True,  True]])"
      ]
     },
     "execution_count": 141,
     "metadata": {},
     "output_type": "execute_result"
    }
   ],
   "source": [
    "d6 > d7"
   ]
  },
  {
   "cell_type": "code",
   "execution_count": 142,
   "id": "43dd04a1",
   "metadata": {},
   "outputs": [
    {
     "data": {
      "text/plain": [
       "array([[False,  True, False],\n",
       "       [ True, False, False]])"
      ]
     },
     "execution_count": 142,
     "metadata": {},
     "output_type": "execute_result"
    }
   ],
   "source": [
    "d6 < d7"
   ]
  },
  {
   "cell_type": "code",
   "execution_count": 143,
   "id": "0fe065c3",
   "metadata": {},
   "outputs": [
    {
     "data": {
      "text/plain": [
       "array([[ True, False,  True],\n",
       "       [False,  True,  True]])"
      ]
     },
     "execution_count": 143,
     "metadata": {},
     "output_type": "execute_result"
    }
   ],
   "source": [
    "d6 >= d7"
   ]
  },
  {
   "cell_type": "code",
   "execution_count": 144,
   "id": "075dc09b",
   "metadata": {},
   "outputs": [
    {
     "data": {
      "text/plain": [
       "array([[False, False, False],\n",
       "       [False, False, False]])"
      ]
     },
     "execution_count": 144,
     "metadata": {},
     "output_type": "execute_result"
    }
   ],
   "source": [
    "d6 == d7"
   ]
  },
  {
   "cell_type": "code",
   "execution_count": 145,
   "id": "155dbc58",
   "metadata": {},
   "outputs": [
    {
     "data": {
      "text/plain": [
       "array([[ True,  True,  True],\n",
       "       [ True,  True,  True]])"
      ]
     },
     "execution_count": 145,
     "metadata": {},
     "output_type": "execute_result"
    }
   ],
   "source": [
    "d6 != d7"
   ]
  },
  {
   "cell_type": "code",
   "execution_count": null,
   "id": "e0823bbb",
   "metadata": {},
   "outputs": [],
   "source": []
  },
  {
   "cell_type": "markdown",
   "id": "1fb4d2b2",
   "metadata": {},
   "source": [
    "## sorting arrays"
   ]
  },
  {
   "cell_type": "code",
   "execution_count": 146,
   "id": "c9864a9b",
   "metadata": {},
   "outputs": [
    {
     "data": {
      "text/plain": [
       "(4, 5)"
      ]
     },
     "execution_count": 146,
     "metadata": {},
     "output_type": "execute_result"
    }
   ],
   "source": [
    "random_arr = np.random.randint(12, size = (4,5))\n",
    "random_arr.shape"
   ]
  },
  {
   "cell_type": "code",
   "execution_count": 147,
   "id": "7a6cdf47",
   "metadata": {},
   "outputs": [
    {
     "data": {
      "text/plain": [
       "array([[7, 8, 1, 5, 9],\n",
       "       [8, 9, 4, 3, 0],\n",
       "       [3, 5, 0, 2, 3],\n",
       "       [8, 1, 3, 3, 3]])"
      ]
     },
     "execution_count": 147,
     "metadata": {},
     "output_type": "execute_result"
    }
   ],
   "source": [
    "random_arr"
   ]
  },
  {
   "cell_type": "code",
   "execution_count": 149,
   "id": "a922a77b",
   "metadata": {},
   "outputs": [
    {
     "data": {
      "text/plain": [
       "array([[ 7,  0,  1,  9,  9],\n",
       "       [ 0, 10,  4,  7,  3],\n",
       "       [ 2,  7,  2,  0,  0],\n",
       "       [ 4,  5,  5,  6,  8]])"
      ]
     },
     "execution_count": 149,
     "metadata": {},
     "output_type": "execute_result"
    }
   ],
   "source": [
    "random_arr1 = np.random.randint(11, size=(4,5))\n",
    "random_arr1"
   ]
  },
  {
   "cell_type": "code",
   "execution_count": 150,
   "id": "c5b25a9e",
   "metadata": {},
   "outputs": [
    {
     "data": {
      "text/plain": [
       "array([[ True, False,  True, False,  True],\n",
       "       [False, False,  True, False, False],\n",
       "       [False, False, False, False, False],\n",
       "       [False, False, False, False, False]])"
      ]
     },
     "execution_count": 150,
     "metadata": {},
     "output_type": "execute_result"
    }
   ],
   "source": [
    "random_arr == random_arr1"
   ]
  },
  {
   "cell_type": "code",
   "execution_count": null,
   "id": "92603f36",
   "metadata": {},
   "outputs": [],
   "source": []
  }
 ],
 "metadata": {
  "kernelspec": {
   "display_name": "Python 3 (ipykernel)",
   "language": "python",
   "name": "python3"
  },
  "language_info": {
   "codemirror_mode": {
    "name": "ipython",
    "version": 3
   },
   "file_extension": ".py",
   "mimetype": "text/x-python",
   "name": "python",
   "nbconvert_exporter": "python",
   "pygments_lexer": "ipython3",
   "version": "3.9.7"
  }
 },
 "nbformat": 4,
 "nbformat_minor": 5
}
