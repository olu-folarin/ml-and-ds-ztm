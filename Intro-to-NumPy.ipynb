{
 "cells": [
  {
   "cell_type": "code",
   "execution_count": 1,
   "id": "505e63e0",
   "metadata": {},
   "outputs": [],
   "source": [
    "import numpy as np"
   ]
  },
  {
   "cell_type": "code",
   "execution_count": null,
   "id": "365c583b",
   "metadata": {},
   "outputs": [],
   "source": []
  },
  {
   "cell_type": "markdown",
   "id": "b084514a",
   "metadata": {},
   "source": [
    "## Data Types and Attributes"
   ]
  },
  {
   "cell_type": "code",
   "execution_count": 2,
   "id": "c1d9ea5a",
   "metadata": {},
   "outputs": [
    {
     "data": {
      "text/plain": [
       "array([2, 5, 8])"
      ]
     },
     "execution_count": 2,
     "metadata": {},
     "output_type": "execute_result"
    }
   ],
   "source": [
    "first_nparray = np.array([2,5,8])\n",
    "first_nparray"
   ]
  },
  {
   "cell_type": "code",
   "execution_count": 3,
   "id": "ab84a9c2",
   "metadata": {},
   "outputs": [
    {
     "data": {
      "text/plain": [
       "array([7, 0, 1])"
      ]
     },
     "execution_count": 3,
     "metadata": {},
     "output_type": "execute_result"
    }
   ],
   "source": [
    "second_nparr = np.array([7,0,1])\n",
    "second_nparr"
   ]
  },
  {
   "cell_type": "markdown",
   "id": "a8f00c7d",
   "metadata": {},
   "source": [
    "## check the datatype with type(var_name)"
   ]
  },
  {
   "cell_type": "code",
   "execution_count": 4,
   "id": "9f51a19a",
   "metadata": {},
   "outputs": [
    {
     "data": {
      "text/plain": [
       "numpy.ndarray"
      ]
     },
     "execution_count": 4,
     "metadata": {},
     "output_type": "execute_result"
    }
   ],
   "source": [
    "type(second_nparr)"
   ]
  },
  {
   "cell_type": "code",
   "execution_count": 5,
   "id": "7ee89205",
   "metadata": {},
   "outputs": [
    {
     "data": {
      "text/plain": [
       "numpy.ndarray"
      ]
     },
     "execution_count": 5,
     "metadata": {},
     "output_type": "execute_result"
    }
   ],
   "source": [
    "type(first_nparray)"
   ]
  },
  {
   "cell_type": "code",
   "execution_count": null,
   "id": "d760c189",
   "metadata": {},
   "outputs": [],
   "source": []
  },
  {
   "cell_type": "markdown",
   "id": "449d1d72",
   "metadata": {},
   "source": [
    "##creating single a vector and matrix(es)"
   ]
  },
  {
   "cell_type": "code",
   "execution_count": 8,
   "id": "766eb850",
   "metadata": {},
   "outputs": [
    {
     "data": {
      "text/plain": [
       "array([1, 2, 3])"
      ]
     },
     "execution_count": 8,
     "metadata": {},
     "output_type": "execute_result"
    }
   ],
   "source": [
    "vec = np.array([1,2,3])\n",
    "vec"
   ]
  },
  {
   "cell_type": "code",
   "execution_count": 9,
   "id": "d0235072",
   "metadata": {},
   "outputs": [
    {
     "data": {
      "text/plain": [
       "array([[1. , 2. , 2.7],\n",
       "       [3. , 4. , 5. ],\n",
       "       [5.5, 6. , 7. ]])"
      ]
     },
     "execution_count": 9,
     "metadata": {},
     "output_type": "execute_result"
    }
   ],
   "source": [
    "##this is a dual-dimensional array\n",
    "matx1 = np.array([[1,2,2.7],[3,4,5],[5.5,6,7]])\n",
    "matx1"
   ]
  },
  {
   "cell_type": "code",
   "execution_count": 31,
   "id": "9ed97d66",
   "metadata": {},
   "outputs": [
    {
     "data": {
      "text/plain": [
       "array([[[ 1,  2],\n",
       "        [ 3,  4]],\n",
       "\n",
       "       [[ 5,  6],\n",
       "        [ 7,  8]],\n",
       "\n",
       "       [[ 9, 10],\n",
       "        [11, 12]]])"
      ]
     },
     "execution_count": 31,
     "metadata": {},
     "output_type": "execute_result"
    }
   ],
   "source": [
    "##a multi-dimensional array\n",
    "matx2 = np.array([[[1,2],[3,4]],[[5,6],[7,8]],[[9,10],[11,12]]])\n",
    "matx2"
   ]
  },
  {
   "cell_type": "markdown",
   "id": "ddf5141d",
   "metadata": {},
   "source": [
    "## NOTE: if there's one or more float(s) in a vector or matrix, all the integers will have dots after them."
   ]
  },
  {
   "cell_type": "code",
   "execution_count": 11,
   "id": "ed83854b",
   "metadata": {},
   "outputs": [
    {
     "data": {
      "text/plain": [
       "(3,)"
      ]
     },
     "execution_count": 11,
     "metadata": {},
     "output_type": "execute_result"
    }
   ],
   "source": [
    " first_nparray.shape"
   ]
  },
  {
   "cell_type": "code",
   "execution_count": 12,
   "id": "af048139",
   "metadata": {},
   "outputs": [
    {
     "data": {
      "text/plain": [
       "(3,)"
      ]
     },
     "execution_count": 12,
     "metadata": {},
     "output_type": "execute_result"
    }
   ],
   "source": [
    "second_nparr.shape"
   ]
  },
  {
   "cell_type": "code",
   "execution_count": 13,
   "id": "99ce8a3f",
   "metadata": {},
   "outputs": [
    {
     "data": {
      "text/plain": [
       "(3, 3)"
      ]
     },
     "execution_count": 13,
     "metadata": {},
     "output_type": "execute_result"
    }
   ],
   "source": [
    "matx1.shape"
   ]
  },
  {
   "cell_type": "code",
   "execution_count": 14,
   "id": "1a0e5025",
   "metadata": {},
   "outputs": [
    {
     "data": {
      "text/plain": [
       "(3, 2, 3)"
      ]
     },
     "execution_count": 14,
     "metadata": {},
     "output_type": "execute_result"
    }
   ],
   "source": [
    "matx2.shape"
   ]
  },
  {
   "cell_type": "code",
   "execution_count": 15,
   "id": "ca550125",
   "metadata": {},
   "outputs": [
    {
     "data": {
      "text/plain": [
       "(1, 1, 2, 3)"
      ]
     },
     "execution_count": 15,
     "metadata": {},
     "output_type": "execute_result"
    }
   ],
   "source": [
    "first_nparray.ndim, second_nparr.ndim, matx1.ndim, matx2.ndim"
   ]
  },
  {
   "cell_type": "code",
   "execution_count": 17,
   "id": "545b8fe5",
   "metadata": {},
   "outputs": [
    {
     "data": {
      "text/plain": [
       "3"
      ]
     },
     "execution_count": 17,
     "metadata": {},
     "output_type": "execute_result"
    }
   ],
   "source": [
    "matx3 = np.array([[[1,2,3],[4,5,6]],[[7,8,9],[10,11,12]],[[13,14,15],[16,17,18]], [[19,20,21], [22,23,24]]])\n",
    "matx3.ndim"
   ]
  },
  {
   "cell_type": "code",
   "execution_count": 18,
   "id": "229f41c4",
   "metadata": {},
   "outputs": [
    {
     "data": {
      "text/plain": [
       "(dtype('int32'),\n",
       " dtype('int32'),\n",
       " dtype('float64'),\n",
       " dtype('int32'),\n",
       " dtype('int32'))"
      ]
     },
     "execution_count": 18,
     "metadata": {},
     "output_type": "execute_result"
    }
   ],
   "source": [
    "first_nparray.dtype, second_nparr.dtype, matx1.dtype, matx2.dtype, matx3.dtype"
   ]
  },
  {
   "cell_type": "code",
   "execution_count": 20,
   "id": "ab1ca832",
   "metadata": {},
   "outputs": [
    {
     "data": {
      "text/plain": [
       "(3, 3, 9, 18, 24)"
      ]
     },
     "execution_count": 20,
     "metadata": {},
     "output_type": "execute_result"
    }
   ],
   "source": [
    "first_nparray.size, second_nparr.size, matx1.size, matx2.size, matx3.size"
   ]
  },
  {
   "cell_type": "code",
   "execution_count": 21,
   "id": "cb3277c0",
   "metadata": {},
   "outputs": [
    {
     "data": {
      "text/plain": [
       "(numpy.ndarray, numpy.ndarray, numpy.ndarray, numpy.ndarray, numpy.ndarray)"
      ]
     },
     "execution_count": 21,
     "metadata": {},
     "output_type": "execute_result"
    }
   ],
   "source": [
    "type(first_nparray), type(second_nparr), type(matx1), type(matx2), type(matx3)"
   ]
  },
  {
   "cell_type": "code",
   "execution_count": 29,
   "id": "51ca9d31",
   "metadata": {},
   "outputs": [],
   "source": [
    "## create a DataFrame from a NumPy array\n",
    "\n",
    "import pandas as pd\n",
    "\n",
    "df = pd.DataFrame(first_nparray)\n",
    "df1 = pd.DataFrame(second_nparr)\n",
    "df2 = pd.DataFrame(matx1)\n"
   ]
  },
  {
   "cell_type": "code",
   "execution_count": 23,
   "id": "1fffbf18",
   "metadata": {},
   "outputs": [
    {
     "data": {
      "text/html": [
       "<div>\n",
       "<style scoped>\n",
       "    .dataframe tbody tr th:only-of-type {\n",
       "        vertical-align: middle;\n",
       "    }\n",
       "\n",
       "    .dataframe tbody tr th {\n",
       "        vertical-align: top;\n",
       "    }\n",
       "\n",
       "    .dataframe thead th {\n",
       "        text-align: right;\n",
       "    }\n",
       "</style>\n",
       "<table border=\"1\" class=\"dataframe\">\n",
       "  <thead>\n",
       "    <tr style=\"text-align: right;\">\n",
       "      <th></th>\n",
       "      <th>0</th>\n",
       "    </tr>\n",
       "  </thead>\n",
       "  <tbody>\n",
       "    <tr>\n",
       "      <th>0</th>\n",
       "      <td>2</td>\n",
       "    </tr>\n",
       "    <tr>\n",
       "      <th>1</th>\n",
       "      <td>5</td>\n",
       "    </tr>\n",
       "    <tr>\n",
       "      <th>2</th>\n",
       "      <td>8</td>\n",
       "    </tr>\n",
       "  </tbody>\n",
       "</table>\n",
       "</div>"
      ],
      "text/plain": [
       "   0\n",
       "0  2\n",
       "1  5\n",
       "2  8"
      ]
     },
     "execution_count": 23,
     "metadata": {},
     "output_type": "execute_result"
    }
   ],
   "source": [
    "df"
   ]
  },
  {
   "cell_type": "code",
   "execution_count": 24,
   "id": "cca93b11",
   "metadata": {},
   "outputs": [
    {
     "data": {
      "text/html": [
       "<div>\n",
       "<style scoped>\n",
       "    .dataframe tbody tr th:only-of-type {\n",
       "        vertical-align: middle;\n",
       "    }\n",
       "\n",
       "    .dataframe tbody tr th {\n",
       "        vertical-align: top;\n",
       "    }\n",
       "\n",
       "    .dataframe thead th {\n",
       "        text-align: right;\n",
       "    }\n",
       "</style>\n",
       "<table border=\"1\" class=\"dataframe\">\n",
       "  <thead>\n",
       "    <tr style=\"text-align: right;\">\n",
       "      <th></th>\n",
       "      <th>0</th>\n",
       "    </tr>\n",
       "  </thead>\n",
       "  <tbody>\n",
       "    <tr>\n",
       "      <th>0</th>\n",
       "      <td>7</td>\n",
       "    </tr>\n",
       "    <tr>\n",
       "      <th>1</th>\n",
       "      <td>0</td>\n",
       "    </tr>\n",
       "    <tr>\n",
       "      <th>2</th>\n",
       "      <td>1</td>\n",
       "    </tr>\n",
       "  </tbody>\n",
       "</table>\n",
       "</div>"
      ],
      "text/plain": [
       "   0\n",
       "0  7\n",
       "1  0\n",
       "2  1"
      ]
     },
     "execution_count": 24,
     "metadata": {},
     "output_type": "execute_result"
    }
   ],
   "source": [
    "df1"
   ]
  },
  {
   "cell_type": "code",
   "execution_count": 38,
   "id": "d5b1d4ce",
   "metadata": {},
   "outputs": [
    {
     "data": {
      "text/html": [
       "<div>\n",
       "<style scoped>\n",
       "    .dataframe tbody tr th:only-of-type {\n",
       "        vertical-align: middle;\n",
       "    }\n",
       "\n",
       "    .dataframe tbody tr th {\n",
       "        vertical-align: top;\n",
       "    }\n",
       "\n",
       "    .dataframe thead th {\n",
       "        text-align: right;\n",
       "    }\n",
       "</style>\n",
       "<table border=\"1\" class=\"dataframe\">\n",
       "  <thead>\n",
       "    <tr style=\"text-align: right;\">\n",
       "      <th></th>\n",
       "      <th>0</th>\n",
       "      <th>1</th>\n",
       "      <th>2</th>\n",
       "    </tr>\n",
       "  </thead>\n",
       "  <tbody>\n",
       "    <tr>\n",
       "      <th>0</th>\n",
       "      <td>1.0</td>\n",
       "      <td>2.0</td>\n",
       "      <td>2.7</td>\n",
       "    </tr>\n",
       "    <tr>\n",
       "      <th>1</th>\n",
       "      <td>3.0</td>\n",
       "      <td>4.0</td>\n",
       "      <td>5.0</td>\n",
       "    </tr>\n",
       "    <tr>\n",
       "      <th>2</th>\n",
       "      <td>5.5</td>\n",
       "      <td>6.0</td>\n",
       "      <td>7.0</td>\n",
       "    </tr>\n",
       "  </tbody>\n",
       "</table>\n",
       "</div>"
      ],
      "text/plain": [
       "     0    1    2\n",
       "0  1.0  2.0  2.7\n",
       "1  3.0  4.0  5.0\n",
       "2  5.5  6.0  7.0"
      ]
     },
     "execution_count": 38,
     "metadata": {},
     "output_type": "execute_result"
    }
   ],
   "source": [
    "df2\n",
    "# df2.shape"
   ]
  },
  {
   "cell_type": "code",
   "execution_count": 36,
   "id": "e97a82fc",
   "metadata": {},
   "outputs": [
    {
     "data": {
      "text/plain": [
       "array([[[ 1,  2],\n",
       "        [ 3,  4]],\n",
       "\n",
       "       [[ 5,  6],\n",
       "        [ 7,  8]],\n",
       "\n",
       "       [[ 9, 10],\n",
       "        [11, 12]]])"
      ]
     },
     "execution_count": 36,
     "metadata": {},
     "output_type": "execute_result"
    }
   ],
   "source": [
    "# df3 = pd.DataFrame(matx2)\n",
    "matx2"
   ]
  },
  {
   "cell_type": "code",
   "execution_count": null,
   "id": "f565e852",
   "metadata": {},
   "outputs": [],
   "source": []
  },
  {
   "cell_type": "markdown",
   "id": "d16cfbd7",
   "metadata": {},
   "source": [
    "## Creating NumPy Arrays"
   ]
  },
  {
   "cell_type": "code",
   "execution_count": 48,
   "id": "90510ce3",
   "metadata": {},
   "outputs": [],
   "source": [
    "## below will create and shape a dual-dimensional array.\n",
    "arr_of_ones = np.ones((3,3), dtype=int, order = 'F')"
   ]
  },
  {
   "cell_type": "code",
   "execution_count": 49,
   "id": "1d4c0d61",
   "metadata": {},
   "outputs": [
    {
     "data": {
      "text/plain": [
       "array([[1, 1, 1],\n",
       "       [1, 1, 1],\n",
       "       [1, 1, 1]])"
      ]
     },
     "execution_count": 49,
     "metadata": {},
     "output_type": "execute_result"
    }
   ],
   "source": [
    "arr_of_ones"
   ]
  },
  {
   "cell_type": "code",
   "execution_count": 50,
   "id": "443b7a9c",
   "metadata": {},
   "outputs": [
    {
     "data": {
      "text/plain": [
       "dtype('int32')"
      ]
     },
     "execution_count": 50,
     "metadata": {},
     "output_type": "execute_result"
    }
   ],
   "source": [
    "arr_of_ones.dtype"
   ]
  },
  {
   "cell_type": "code",
   "execution_count": 51,
   "id": "fdba1079",
   "metadata": {},
   "outputs": [
    {
     "data": {
      "text/plain": [
       "numpy.ndarray"
      ]
     },
     "execution_count": 51,
     "metadata": {},
     "output_type": "execute_result"
    }
   ],
   "source": [
    "type(arr_of_ones)"
   ]
  },
  {
   "cell_type": "code",
   "execution_count": 53,
   "id": "477ef324",
   "metadata": {},
   "outputs": [
    {
     "data": {
      "text/plain": [
       "dtype('int32')"
      ]
     },
     "execution_count": 53,
     "metadata": {},
     "output_type": "execute_result"
    }
   ],
   "source": [
    "arr_of_ones.dtype"
   ]
  },
  {
   "cell_type": "code",
   "execution_count": 54,
   "id": "d2fa998b",
   "metadata": {},
   "outputs": [
    {
     "data": {
      "text/plain": [
       "(3, 3)"
      ]
     },
     "execution_count": 54,
     "metadata": {},
     "output_type": "execute_result"
    }
   ],
   "source": [
    "arr_of_ones.shape"
   ]
  },
  {
   "cell_type": "code",
   "execution_count": 55,
   "id": "f0ed45fe",
   "metadata": {},
   "outputs": [
    {
     "data": {
      "text/plain": [
       "9"
      ]
     },
     "execution_count": 55,
     "metadata": {},
     "output_type": "execute_result"
    }
   ],
   "source": [
    "arr_of_ones.size"
   ]
  },
  {
   "cell_type": "code",
   "execution_count": 80,
   "id": "50daac8b",
   "metadata": {},
   "outputs": [],
   "source": [
    "arr_of_zeros = np.empty((3,2))"
   ]
  },
  {
   "cell_type": "code",
   "execution_count": 81,
   "id": "1388b3e5",
   "metadata": {},
   "outputs": [
    {
     "data": {
      "text/plain": [
       "array([[0., 0.],\n",
       "       [0., 0.],\n",
       "       [0., 0.]])"
      ]
     },
     "execution_count": 81,
     "metadata": {},
     "output_type": "execute_result"
    }
   ],
   "source": [
    "arr_of_zeros"
   ]
  },
  {
   "cell_type": "code",
   "execution_count": 82,
   "id": "f6dca18f",
   "metadata": {},
   "outputs": [
    {
     "data": {
      "text/plain": [
       "(3, 2)"
      ]
     },
     "execution_count": 82,
     "metadata": {},
     "output_type": "execute_result"
    }
   ],
   "source": [
    "arr_of_zeros.shape"
   ]
  },
  {
   "cell_type": "code",
   "execution_count": 83,
   "id": "95d46d50",
   "metadata": {},
   "outputs": [],
   "source": [
    "multidim_arr = np.full((1,2), [2,3])"
   ]
  },
  {
   "cell_type": "code",
   "execution_count": 84,
   "id": "dd22c3f5",
   "metadata": {},
   "outputs": [
    {
     "data": {
      "text/plain": [
       "array([[2, 3]])"
      ]
     },
     "execution_count": 84,
     "metadata": {},
     "output_type": "execute_result"
    }
   ],
   "source": [
    "multidim_arr"
   ]
  },
  {
   "cell_type": "code",
   "execution_count": 89,
   "id": "213ff8e7",
   "metadata": {},
   "outputs": [],
   "source": [
    "empty_arr = np.empty((3,3))"
   ]
  },
  {
   "cell_type": "code",
   "execution_count": 90,
   "id": "216e6e24",
   "metadata": {},
   "outputs": [
    {
     "data": {
      "text/plain": [
       "array([[1., 1., 1.],\n",
       "       [1., 1., 1.],\n",
       "       [1., 1., 1.]])"
      ]
     },
     "execution_count": 90,
     "metadata": {},
     "output_type": "execute_result"
    }
   ],
   "source": [
    "empty_arr"
   ]
  },
  {
   "cell_type": "code",
   "execution_count": 91,
   "id": "615cb572",
   "metadata": {},
   "outputs": [
    {
     "data": {
      "text/plain": [
       "dtype('float64')"
      ]
     },
     "execution_count": 91,
     "metadata": {},
     "output_type": "execute_result"
    }
   ],
   "source": [
    "empty_arr.dtype"
   ]
  },
  {
   "cell_type": "code",
   "execution_count": 92,
   "id": "77a7eed2",
   "metadata": {},
   "outputs": [
    {
     "data": {
      "text/plain": [
       "(3, 3)"
      ]
     },
     "execution_count": 92,
     "metadata": {},
     "output_type": "execute_result"
    }
   ],
   "source": [
    "empty_arr.shape"
   ]
  },
  {
   "cell_type": "markdown",
   "id": "fcc88678",
   "metadata": {},
   "source": [
    "empty_arr.sise"
   ]
  },
  {
   "cell_type": "code",
   "execution_count": 93,
   "id": "e7c8ad1b",
   "metadata": {},
   "outputs": [
    {
     "data": {
      "text/plain": [
       "9"
      ]
     },
     "execution_count": 93,
     "metadata": {},
     "output_type": "execute_result"
    }
   ],
   "source": [
    "empty_arr.size"
   ]
  },
  {
   "cell_type": "code",
   "execution_count": 95,
   "id": "0f2bffc7",
   "metadata": {},
   "outputs": [],
   "source": [
    "range_arr = np.arange(1,12)"
   ]
  },
  {
   "cell_type": "code",
   "execution_count": 96,
   "id": "c0fdb68b",
   "metadata": {},
   "outputs": [
    {
     "data": {
      "text/plain": [
       "array([ 1,  2,  3,  4,  5,  6,  7,  8,  9, 10, 11])"
      ]
     },
     "execution_count": 96,
     "metadata": {},
     "output_type": "execute_result"
    }
   ],
   "source": [
    "range_arr"
   ]
  },
  {
   "cell_type": "code",
   "execution_count": 97,
   "id": "7b6647f8",
   "metadata": {},
   "outputs": [],
   "source": [
    "range_arr1 = np.arange(0,10,3)"
   ]
  },
  {
   "cell_type": "code",
   "execution_count": 99,
   "id": "8acdc4da",
   "metadata": {},
   "outputs": [
    {
     "data": {
      "text/plain": [
       "array([0, 3, 6, 9])"
      ]
     },
     "execution_count": 99,
     "metadata": {},
     "output_type": "execute_result"
    }
   ],
   "source": [
    "range_arr1"
   ]
  },
  {
   "cell_type": "code",
   "execution_count": 108,
   "id": "baa20325",
   "metadata": {},
   "outputs": [],
   "source": [
    "rando_arr = np.random.randint(1,14, size=(3,4))"
   ]
  },
  {
   "cell_type": "code",
   "execution_count": 109,
   "id": "27884f71",
   "metadata": {},
   "outputs": [
    {
     "data": {
      "text/plain": [
       "array([[10,  7,  5, 12],\n",
       "       [ 6,  6, 12,  8],\n",
       "       [ 7,  4,  9,  3]])"
      ]
     },
     "execution_count": 109,
     "metadata": {},
     "output_type": "execute_result"
    }
   ],
   "source": [
    "rando_arr"
   ]
  },
  {
   "cell_type": "code",
   "execution_count": 110,
   "id": "5ddf4699",
   "metadata": {},
   "outputs": [],
   "source": [
    "rand_arr = np.random.randint(10, size=6)"
   ]
  },
  {
   "cell_type": "code",
   "execution_count": 111,
   "id": "9ef1f8f9",
   "metadata": {},
   "outputs": [
    {
     "data": {
      "text/plain": [
       "array([4, 8, 4, 6, 2, 8])"
      ]
     },
     "execution_count": 111,
     "metadata": {},
     "output_type": "execute_result"
    }
   ],
   "source": [
    "rand_arr"
   ]
  },
  {
   "cell_type": "code",
   "execution_count": 112,
   "id": "b21ec9be",
   "metadata": {},
   "outputs": [],
   "source": [
    "rand_arr1 = np.random.randint(20, size=(4,4), dtype=int)"
   ]
  },
  {
   "cell_type": "code",
   "execution_count": 113,
   "id": "1b06ce6d",
   "metadata": {},
   "outputs": [
    {
     "data": {
      "text/plain": [
       "array([[ 9, 12,  1, 19],\n",
       "       [ 0, 14, 16,  0],\n",
       "       [19, 19,  4,  7],\n",
       "       [17, 18, 14,  5]])"
      ]
     },
     "execution_count": 113,
     "metadata": {},
     "output_type": "execute_result"
    }
   ],
   "source": [
    "rand_arr1"
   ]
  },
  {
   "cell_type": "code",
   "execution_count": 114,
   "id": "594b6051",
   "metadata": {},
   "outputs": [
    {
     "data": {
      "text/plain": [
       "dtype('int32')"
      ]
     },
     "execution_count": 114,
     "metadata": {},
     "output_type": "execute_result"
    }
   ],
   "source": [
    "rand_arr1.dtype"
   ]
  },
  {
   "cell_type": "code",
   "execution_count": 115,
   "id": "be05e191",
   "metadata": {},
   "outputs": [
    {
     "data": {
      "text/plain": [
       "16"
      ]
     },
     "execution_count": 115,
     "metadata": {},
     "output_type": "execute_result"
    }
   ],
   "source": [
    "rand_arr1.size"
   ]
  },
  {
   "cell_type": "code",
   "execution_count": 119,
   "id": "0c63714f",
   "metadata": {},
   "outputs": [],
   "source": [
    "## here is another way to create random arrays\n",
    "rand_arr2 = np.random.random((4,4))"
   ]
  },
  {
   "cell_type": "code",
   "execution_count": 120,
   "id": "08da12b0",
   "metadata": {},
   "outputs": [
    {
     "data": {
      "text/plain": [
       "array([[0.25215695, 0.21823782, 0.07577535, 0.10004162],\n",
       "       [0.18609353, 0.58398097, 0.8641704 , 0.77346787],\n",
       "       [0.45306205, 0.91529537, 0.73931782, 0.83294033],\n",
       "       [0.87640556, 0.23943006, 0.17566431, 0.65008543]])"
      ]
     },
     "execution_count": 120,
     "metadata": {},
     "output_type": "execute_result"
    }
   ],
   "source": [
    "rand_arr2"
   ]
  },
  {
   "cell_type": "code",
   "execution_count": 122,
   "id": "d46ce870",
   "metadata": {},
   "outputs": [],
   "source": [
    "## yet another random generating technique\n",
    "rand_arr3 = np.random.rand(3,3)"
   ]
  },
  {
   "cell_type": "code",
   "execution_count": 123,
   "id": "b90c79b5",
   "metadata": {},
   "outputs": [
    {
     "data": {
      "text/plain": [
       "array([[0.50010411, 0.20415868, 0.89673794],\n",
       "       [0.70917411, 0.85613406, 0.19392555],\n",
       "       [0.39028916, 0.53665866, 0.35841238]])"
      ]
     },
     "execution_count": 123,
     "metadata": {},
     "output_type": "execute_result"
    }
   ],
   "source": [
    "rand_arr3"
   ]
  },
  {
   "cell_type": "code",
   "execution_count": null,
   "id": "ac42c118",
   "metadata": {},
   "outputs": [],
   "source": []
  }
 ],
 "metadata": {
  "kernelspec": {
   "display_name": "Python 3 (ipykernel)",
   "language": "python",
   "name": "python3"
  },
  "language_info": {
   "codemirror_mode": {
    "name": "ipython",
    "version": 3
   },
   "file_extension": ".py",
   "mimetype": "text/x-python",
   "name": "python",
   "nbconvert_exporter": "python",
   "pygments_lexer": "ipython3",
   "version": "3.9.7"
  }
 },
 "nbformat": 4,
 "nbformat_minor": 5
}
